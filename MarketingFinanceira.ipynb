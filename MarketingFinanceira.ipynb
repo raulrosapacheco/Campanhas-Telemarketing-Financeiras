{
  "nbformat": 4,
  "nbformat_minor": 0,
  "metadata": {
    "colab": {
      "provenance": [],
      "collapsed_sections": [
        "BeGVyRKaM-X3",
        "UoF6_Z_Yn5pn"
      ],
      "authorship_tag": "ABX9TyOU/f6AYzjQRjzhDDo0yNX4",
      "include_colab_link": true
    },
    "kernelspec": {
      "name": "python3",
      "display_name": "Python 3"
    },
    "language_info": {
      "name": "python"
    }
  },
  "cells": [
    {
      "cell_type": "markdown",
      "metadata": {
        "id": "view-in-github",
        "colab_type": "text"
      },
      "source": [
        "<a href=\"https://colab.research.google.com/github/raulrosapacheco/Campanhas-Telemarketing-Financeiras/blob/main/MarketingFinanceira.ipynb\" target=\"_parent\"><img src=\"https://colab.research.google.com/assets/colab-badge.svg\" alt=\"Open In Colab\"/></a>"
      ]
    },
    {
      "cell_type": "markdown",
      "source": [
        "# Análise de Dados de Campanhas de Marketing Direto (Instituição Bancária)"
      ],
      "metadata": {
        "id": "Y39sw5m7L3r1"
      }
    },
    {
      "cell_type": "markdown",
      "source": [
        "## Carregando os Pacotes"
      ],
      "metadata": {
        "id": "OdEYqE4PMTih"
      }
    },
    {
      "cell_type": "code",
      "execution_count": 1,
      "metadata": {
        "id": "4xlDNMWYLprC"
      },
      "outputs": [],
      "source": [
        "# Imports\n",
        "import pandas as pd\n",
        "import numpy as np\n",
        "import matplotlib.pyplot as plt\n",
        "import seaborn as sns"
      ]
    },
    {
      "cell_type": "markdown",
      "source": [
        "## Carregando os Dados"
      ],
      "metadata": {
        "id": "uk25daUONhX1"
      }
    },
    {
      "cell_type": "code",
      "source": [
        "# Carrega o DataSet bank-full.csv disponível no GitHub\n",
        "df = pd.read_csv('https://raw.githubusercontent.com/raulrosapacheco/Campanhas-Telemarketing-Financeiras/main/dados/bank-full.csv', sep=';')"
      ],
      "metadata": {
        "id": "asx171ObNkla"
      },
      "execution_count": 2,
      "outputs": []
    },
    {
      "cell_type": "code",
      "source": [
        "# Número de Registros e Variáveis\n",
        "df.shape"
      ],
      "metadata": {
        "colab": {
          "base_uri": "https://localhost:8080/"
        },
        "id": "FS-CawhSOM9R",
        "outputId": "38524938-68b5-4327-d33e-3bdbc392671e"
      },
      "execution_count": 3,
      "outputs": [
        {
          "output_type": "execute_result",
          "data": {
            "text/plain": [
              "(45211, 16)"
            ]
          },
          "metadata": {},
          "execution_count": 3
        }
      ]
    },
    {
      "cell_type": "code",
      "source": [
        "# Amostra do DataSet\n",
        "df.head()"
      ],
      "metadata": {
        "colab": {
          "base_uri": "https://localhost:8080/",
          "height": 206
        },
        "id": "bUJFI6jVOrZ2",
        "outputId": "dbb83bfb-7235-410c-a8d2-08a780281604"
      },
      "execution_count": 4,
      "outputs": [
        {
          "output_type": "execute_result",
          "data": {
            "text/plain": [
              "           job,age  education  marital default  balance housing loan  contact  \\\n",
              "0    management,58   tertiary  married      no     2143     yes   no  unknown   \n",
              "1    technician,44  secondary   single      no       29     yes   no  unknown   \n",
              "2  entrepreneur,33  secondary  married      no        2     yes  yes  unknown   \n",
              "3   blue-collar,47    unknown  married      no     1506     yes   no  unknown   \n",
              "4       unknown,33    unknown   single      no        1      no   no  unknown   \n",
              "\n",
              "   day month  duration  campaign  pdays  previous poutcome   y  \n",
              "0    5   may       261         1     -1         0  unknown  no  \n",
              "1    5   may       151         1     -1         0  unknown  no  \n",
              "2    5   may        76         1     -1         0  unknown  no  \n",
              "3    5   may        92         1     -1         0  unknown  no  \n",
              "4    5   may       198         1     -1         0  unknown  no  "
            ],
            "text/html": [
              "\n",
              "  <div id=\"df-b8ef250b-2c4c-428b-9fb2-3feb71ba3e09\">\n",
              "    <div class=\"colab-df-container\">\n",
              "      <div>\n",
              "<style scoped>\n",
              "    .dataframe tbody tr th:only-of-type {\n",
              "        vertical-align: middle;\n",
              "    }\n",
              "\n",
              "    .dataframe tbody tr th {\n",
              "        vertical-align: top;\n",
              "    }\n",
              "\n",
              "    .dataframe thead th {\n",
              "        text-align: right;\n",
              "    }\n",
              "</style>\n",
              "<table border=\"1\" class=\"dataframe\">\n",
              "  <thead>\n",
              "    <tr style=\"text-align: right;\">\n",
              "      <th></th>\n",
              "      <th>job,age</th>\n",
              "      <th>education</th>\n",
              "      <th>marital</th>\n",
              "      <th>default</th>\n",
              "      <th>balance</th>\n",
              "      <th>housing</th>\n",
              "      <th>loan</th>\n",
              "      <th>contact</th>\n",
              "      <th>day</th>\n",
              "      <th>month</th>\n",
              "      <th>duration</th>\n",
              "      <th>campaign</th>\n",
              "      <th>pdays</th>\n",
              "      <th>previous</th>\n",
              "      <th>poutcome</th>\n",
              "      <th>y</th>\n",
              "    </tr>\n",
              "  </thead>\n",
              "  <tbody>\n",
              "    <tr>\n",
              "      <th>0</th>\n",
              "      <td>management,58</td>\n",
              "      <td>tertiary</td>\n",
              "      <td>married</td>\n",
              "      <td>no</td>\n",
              "      <td>2143</td>\n",
              "      <td>yes</td>\n",
              "      <td>no</td>\n",
              "      <td>unknown</td>\n",
              "      <td>5</td>\n",
              "      <td>may</td>\n",
              "      <td>261</td>\n",
              "      <td>1</td>\n",
              "      <td>-1</td>\n",
              "      <td>0</td>\n",
              "      <td>unknown</td>\n",
              "      <td>no</td>\n",
              "    </tr>\n",
              "    <tr>\n",
              "      <th>1</th>\n",
              "      <td>technician,44</td>\n",
              "      <td>secondary</td>\n",
              "      <td>single</td>\n",
              "      <td>no</td>\n",
              "      <td>29</td>\n",
              "      <td>yes</td>\n",
              "      <td>no</td>\n",
              "      <td>unknown</td>\n",
              "      <td>5</td>\n",
              "      <td>may</td>\n",
              "      <td>151</td>\n",
              "      <td>1</td>\n",
              "      <td>-1</td>\n",
              "      <td>0</td>\n",
              "      <td>unknown</td>\n",
              "      <td>no</td>\n",
              "    </tr>\n",
              "    <tr>\n",
              "      <th>2</th>\n",
              "      <td>entrepreneur,33</td>\n",
              "      <td>secondary</td>\n",
              "      <td>married</td>\n",
              "      <td>no</td>\n",
              "      <td>2</td>\n",
              "      <td>yes</td>\n",
              "      <td>yes</td>\n",
              "      <td>unknown</td>\n",
              "      <td>5</td>\n",
              "      <td>may</td>\n",
              "      <td>76</td>\n",
              "      <td>1</td>\n",
              "      <td>-1</td>\n",
              "      <td>0</td>\n",
              "      <td>unknown</td>\n",
              "      <td>no</td>\n",
              "    </tr>\n",
              "    <tr>\n",
              "      <th>3</th>\n",
              "      <td>blue-collar,47</td>\n",
              "      <td>unknown</td>\n",
              "      <td>married</td>\n",
              "      <td>no</td>\n",
              "      <td>1506</td>\n",
              "      <td>yes</td>\n",
              "      <td>no</td>\n",
              "      <td>unknown</td>\n",
              "      <td>5</td>\n",
              "      <td>may</td>\n",
              "      <td>92</td>\n",
              "      <td>1</td>\n",
              "      <td>-1</td>\n",
              "      <td>0</td>\n",
              "      <td>unknown</td>\n",
              "      <td>no</td>\n",
              "    </tr>\n",
              "    <tr>\n",
              "      <th>4</th>\n",
              "      <td>unknown,33</td>\n",
              "      <td>unknown</td>\n",
              "      <td>single</td>\n",
              "      <td>no</td>\n",
              "      <td>1</td>\n",
              "      <td>no</td>\n",
              "      <td>no</td>\n",
              "      <td>unknown</td>\n",
              "      <td>5</td>\n",
              "      <td>may</td>\n",
              "      <td>198</td>\n",
              "      <td>1</td>\n",
              "      <td>-1</td>\n",
              "      <td>0</td>\n",
              "      <td>unknown</td>\n",
              "      <td>no</td>\n",
              "    </tr>\n",
              "  </tbody>\n",
              "</table>\n",
              "</div>\n",
              "      <button class=\"colab-df-convert\" onclick=\"convertToInteractive('df-b8ef250b-2c4c-428b-9fb2-3feb71ba3e09')\"\n",
              "              title=\"Convert this dataframe to an interactive table.\"\n",
              "              style=\"display:none;\">\n",
              "        \n",
              "  <svg xmlns=\"http://www.w3.org/2000/svg\" height=\"24px\"viewBox=\"0 0 24 24\"\n",
              "       width=\"24px\">\n",
              "    <path d=\"M0 0h24v24H0V0z\" fill=\"none\"/>\n",
              "    <path d=\"M18.56 5.44l.94 2.06.94-2.06 2.06-.94-2.06-.94-.94-2.06-.94 2.06-2.06.94zm-11 1L8.5 8.5l.94-2.06 2.06-.94-2.06-.94L8.5 2.5l-.94 2.06-2.06.94zm10 10l.94 2.06.94-2.06 2.06-.94-2.06-.94-.94-2.06-.94 2.06-2.06.94z\"/><path d=\"M17.41 7.96l-1.37-1.37c-.4-.4-.92-.59-1.43-.59-.52 0-1.04.2-1.43.59L10.3 9.45l-7.72 7.72c-.78.78-.78 2.05 0 2.83L4 21.41c.39.39.9.59 1.41.59.51 0 1.02-.2 1.41-.59l7.78-7.78 2.81-2.81c.8-.78.8-2.07 0-2.86zM5.41 20L4 18.59l7.72-7.72 1.47 1.35L5.41 20z\"/>\n",
              "  </svg>\n",
              "      </button>\n",
              "      \n",
              "  <style>\n",
              "    .colab-df-container {\n",
              "      display:flex;\n",
              "      flex-wrap:wrap;\n",
              "      gap: 12px;\n",
              "    }\n",
              "\n",
              "    .colab-df-convert {\n",
              "      background-color: #E8F0FE;\n",
              "      border: none;\n",
              "      border-radius: 50%;\n",
              "      cursor: pointer;\n",
              "      display: none;\n",
              "      fill: #1967D2;\n",
              "      height: 32px;\n",
              "      padding: 0 0 0 0;\n",
              "      width: 32px;\n",
              "    }\n",
              "\n",
              "    .colab-df-convert:hover {\n",
              "      background-color: #E2EBFA;\n",
              "      box-shadow: 0px 1px 2px rgba(60, 64, 67, 0.3), 0px 1px 3px 1px rgba(60, 64, 67, 0.15);\n",
              "      fill: #174EA6;\n",
              "    }\n",
              "\n",
              "    [theme=dark] .colab-df-convert {\n",
              "      background-color: #3B4455;\n",
              "      fill: #D2E3FC;\n",
              "    }\n",
              "\n",
              "    [theme=dark] .colab-df-convert:hover {\n",
              "      background-color: #434B5C;\n",
              "      box-shadow: 0px 1px 3px 1px rgba(0, 0, 0, 0.15);\n",
              "      filter: drop-shadow(0px 1px 2px rgba(0, 0, 0, 0.3));\n",
              "      fill: #FFFFFF;\n",
              "    }\n",
              "  </style>\n",
              "\n",
              "      <script>\n",
              "        const buttonEl =\n",
              "          document.querySelector('#df-b8ef250b-2c4c-428b-9fb2-3feb71ba3e09 button.colab-df-convert');\n",
              "        buttonEl.style.display =\n",
              "          google.colab.kernel.accessAllowed ? 'block' : 'none';\n",
              "\n",
              "        async function convertToInteractive(key) {\n",
              "          const element = document.querySelector('#df-b8ef250b-2c4c-428b-9fb2-3feb71ba3e09');\n",
              "          const dataTable =\n",
              "            await google.colab.kernel.invokeFunction('convertToInteractive',\n",
              "                                                     [key], {});\n",
              "          if (!dataTable) return;\n",
              "\n",
              "          const docLinkHtml = 'Like what you see? Visit the ' +\n",
              "            '<a target=\"_blank\" href=https://colab.research.google.com/notebooks/data_table.ipynb>data table notebook</a>'\n",
              "            + ' to learn more about interactive tables.';\n",
              "          element.innerHTML = '';\n",
              "          dataTable['output_type'] = 'display_data';\n",
              "          await google.colab.output.renderOutput(dataTable, element);\n",
              "          const docLink = document.createElement('div');\n",
              "          docLink.innerHTML = docLinkHtml;\n",
              "          element.appendChild(docLink);\n",
              "        }\n",
              "      </script>\n",
              "    </div>\n",
              "  </div>\n",
              "  "
            ]
          },
          "metadata": {},
          "execution_count": 4
        }
      ]
    },
    {
      "cell_type": "markdown",
      "source": [
        "## Análise Exploratória"
      ],
      "metadata": {
        "id": "BeGVyRKaM-X3"
      }
    },
    {
      "cell_type": "code",
      "source": [
        "# Verificar os tipos de dados das variáveis\n",
        "df.info()"
      ],
      "metadata": {
        "colab": {
          "base_uri": "https://localhost:8080/"
        },
        "id": "Q13UWfYCNEvm",
        "outputId": "1e1f538e-622c-4175-b9c3-5e6753c01b29"
      },
      "execution_count": 5,
      "outputs": [
        {
          "output_type": "stream",
          "name": "stdout",
          "text": [
            "<class 'pandas.core.frame.DataFrame'>\n",
            "RangeIndex: 45211 entries, 0 to 45210\n",
            "Data columns (total 16 columns):\n",
            " #   Column     Non-Null Count  Dtype \n",
            "---  ------     --------------  ----- \n",
            " 0   job,age    45211 non-null  object\n",
            " 1   education  45211 non-null  object\n",
            " 2   marital    45211 non-null  object\n",
            " 3   default    45211 non-null  object\n",
            " 4   balance    45211 non-null  int64 \n",
            " 5   housing    45211 non-null  object\n",
            " 6   loan       45211 non-null  object\n",
            " 7   contact    45211 non-null  object\n",
            " 8   day        45211 non-null  int64 \n",
            " 9   month      45171 non-null  object\n",
            " 10  duration   45211 non-null  int64 \n",
            " 11  campaign   45211 non-null  int64 \n",
            " 12  pdays      45211 non-null  int64 \n",
            " 13  previous   45211 non-null  int64 \n",
            " 14  poutcome   45211 non-null  object\n",
            " 15  y          45193 non-null  object\n",
            "dtypes: int64(6), object(10)\n",
            "memory usage: 5.5+ MB\n"
          ]
        }
      ]
    },
    {
      "cell_type": "code",
      "source": [
        "# Quantidade de valores nulos\n",
        "df.isna().sum()"
      ],
      "metadata": {
        "colab": {
          "base_uri": "https://localhost:8080/"
        },
        "id": "f5bSY1ifPJT7",
        "outputId": "564485a0-d168-4873-f8a3-c71c9253c71d"
      },
      "execution_count": 6,
      "outputs": [
        {
          "output_type": "execute_result",
          "data": {
            "text/plain": [
              "job,age       0\n",
              "education     0\n",
              "marital       0\n",
              "default       0\n",
              "balance       0\n",
              "housing       0\n",
              "loan          0\n",
              "contact       0\n",
              "day           0\n",
              "month        40\n",
              "duration      0\n",
              "campaign      0\n",
              "pdays         0\n",
              "previous      0\n",
              "poutcome      0\n",
              "y            18\n",
              "dtype: int64"
            ]
          },
          "metadata": {},
          "execution_count": 6
        }
      ]
    },
    {
      "cell_type": "markdown",
      "source": [
        "Já é possível identificar que a coluna job,age possuem duas informações, portanto é necessário separá-las."
      ],
      "metadata": {
        "id": "yfHu5JrFPmm_"
      }
    },
    {
      "cell_type": "code",
      "source": [
        "# Separando a coluna 'job,age'\n",
        "df[['job', 'age']] = df['job,age'].str.split(',', expand=True)\n",
        "df = df.drop(columns=['job,age'], axis =1)\n",
        "\n",
        "# Deletando espaços em branco das colunas 'job' e 'age'\n",
        "df['job'] = df['job'].apply(lambda x: x.strip())\n",
        "df['age'] = df['age'].apply(lambda x: x.strip())\n",
        "\n",
        "# Substitua valores vazios por NaN\n",
        "df['job'].replace('', np.nan, inplace=True)\n",
        "df['age'].replace('', np.nan, inplace=True)\n",
        "\n",
        "# Reordenar coluna\n",
        "new_order = ['job', 'age', 'education', 'marital', 'default', 'balance', 'housing', 'loan', 'contact', 'day', 'month', 'duration', 'campaign', 'pdays', 'previous', 'poutcome', 'y']\n",
        "df = df.reindex(columns=new_order)\n",
        "\n",
        "# Amostra\n",
        "df.head()"
      ],
      "metadata": {
        "colab": {
          "base_uri": "https://localhost:8080/",
          "height": 206
        },
        "id": "92oZjRZWQc-O",
        "outputId": "7e0bf5bd-9d59-4490-c696-7c01b4a5bc51"
      },
      "execution_count": 7,
      "outputs": [
        {
          "output_type": "execute_result",
          "data": {
            "text/plain": [
              "            job age  education  marital default  balance housing loan  \\\n",
              "0    management  58   tertiary  married      no     2143     yes   no   \n",
              "1    technician  44  secondary   single      no       29     yes   no   \n",
              "2  entrepreneur  33  secondary  married      no        2     yes  yes   \n",
              "3   blue-collar  47    unknown  married      no     1506     yes   no   \n",
              "4       unknown  33    unknown   single      no        1      no   no   \n",
              "\n",
              "   contact  day month  duration  campaign  pdays  previous poutcome   y  \n",
              "0  unknown    5   may       261         1     -1         0  unknown  no  \n",
              "1  unknown    5   may       151         1     -1         0  unknown  no  \n",
              "2  unknown    5   may        76         1     -1         0  unknown  no  \n",
              "3  unknown    5   may        92         1     -1         0  unknown  no  \n",
              "4  unknown    5   may       198         1     -1         0  unknown  no  "
            ],
            "text/html": [
              "\n",
              "  <div id=\"df-e96e869e-6080-4b1b-803a-9e2533f496ef\">\n",
              "    <div class=\"colab-df-container\">\n",
              "      <div>\n",
              "<style scoped>\n",
              "    .dataframe tbody tr th:only-of-type {\n",
              "        vertical-align: middle;\n",
              "    }\n",
              "\n",
              "    .dataframe tbody tr th {\n",
              "        vertical-align: top;\n",
              "    }\n",
              "\n",
              "    .dataframe thead th {\n",
              "        text-align: right;\n",
              "    }\n",
              "</style>\n",
              "<table border=\"1\" class=\"dataframe\">\n",
              "  <thead>\n",
              "    <tr style=\"text-align: right;\">\n",
              "      <th></th>\n",
              "      <th>job</th>\n",
              "      <th>age</th>\n",
              "      <th>education</th>\n",
              "      <th>marital</th>\n",
              "      <th>default</th>\n",
              "      <th>balance</th>\n",
              "      <th>housing</th>\n",
              "      <th>loan</th>\n",
              "      <th>contact</th>\n",
              "      <th>day</th>\n",
              "      <th>month</th>\n",
              "      <th>duration</th>\n",
              "      <th>campaign</th>\n",
              "      <th>pdays</th>\n",
              "      <th>previous</th>\n",
              "      <th>poutcome</th>\n",
              "      <th>y</th>\n",
              "    </tr>\n",
              "  </thead>\n",
              "  <tbody>\n",
              "    <tr>\n",
              "      <th>0</th>\n",
              "      <td>management</td>\n",
              "      <td>58</td>\n",
              "      <td>tertiary</td>\n",
              "      <td>married</td>\n",
              "      <td>no</td>\n",
              "      <td>2143</td>\n",
              "      <td>yes</td>\n",
              "      <td>no</td>\n",
              "      <td>unknown</td>\n",
              "      <td>5</td>\n",
              "      <td>may</td>\n",
              "      <td>261</td>\n",
              "      <td>1</td>\n",
              "      <td>-1</td>\n",
              "      <td>0</td>\n",
              "      <td>unknown</td>\n",
              "      <td>no</td>\n",
              "    </tr>\n",
              "    <tr>\n",
              "      <th>1</th>\n",
              "      <td>technician</td>\n",
              "      <td>44</td>\n",
              "      <td>secondary</td>\n",
              "      <td>single</td>\n",
              "      <td>no</td>\n",
              "      <td>29</td>\n",
              "      <td>yes</td>\n",
              "      <td>no</td>\n",
              "      <td>unknown</td>\n",
              "      <td>5</td>\n",
              "      <td>may</td>\n",
              "      <td>151</td>\n",
              "      <td>1</td>\n",
              "      <td>-1</td>\n",
              "      <td>0</td>\n",
              "      <td>unknown</td>\n",
              "      <td>no</td>\n",
              "    </tr>\n",
              "    <tr>\n",
              "      <th>2</th>\n",
              "      <td>entrepreneur</td>\n",
              "      <td>33</td>\n",
              "      <td>secondary</td>\n",
              "      <td>married</td>\n",
              "      <td>no</td>\n",
              "      <td>2</td>\n",
              "      <td>yes</td>\n",
              "      <td>yes</td>\n",
              "      <td>unknown</td>\n",
              "      <td>5</td>\n",
              "      <td>may</td>\n",
              "      <td>76</td>\n",
              "      <td>1</td>\n",
              "      <td>-1</td>\n",
              "      <td>0</td>\n",
              "      <td>unknown</td>\n",
              "      <td>no</td>\n",
              "    </tr>\n",
              "    <tr>\n",
              "      <th>3</th>\n",
              "      <td>blue-collar</td>\n",
              "      <td>47</td>\n",
              "      <td>unknown</td>\n",
              "      <td>married</td>\n",
              "      <td>no</td>\n",
              "      <td>1506</td>\n",
              "      <td>yes</td>\n",
              "      <td>no</td>\n",
              "      <td>unknown</td>\n",
              "      <td>5</td>\n",
              "      <td>may</td>\n",
              "      <td>92</td>\n",
              "      <td>1</td>\n",
              "      <td>-1</td>\n",
              "      <td>0</td>\n",
              "      <td>unknown</td>\n",
              "      <td>no</td>\n",
              "    </tr>\n",
              "    <tr>\n",
              "      <th>4</th>\n",
              "      <td>unknown</td>\n",
              "      <td>33</td>\n",
              "      <td>unknown</td>\n",
              "      <td>single</td>\n",
              "      <td>no</td>\n",
              "      <td>1</td>\n",
              "      <td>no</td>\n",
              "      <td>no</td>\n",
              "      <td>unknown</td>\n",
              "      <td>5</td>\n",
              "      <td>may</td>\n",
              "      <td>198</td>\n",
              "      <td>1</td>\n",
              "      <td>-1</td>\n",
              "      <td>0</td>\n",
              "      <td>unknown</td>\n",
              "      <td>no</td>\n",
              "    </tr>\n",
              "  </tbody>\n",
              "</table>\n",
              "</div>\n",
              "      <button class=\"colab-df-convert\" onclick=\"convertToInteractive('df-e96e869e-6080-4b1b-803a-9e2533f496ef')\"\n",
              "              title=\"Convert this dataframe to an interactive table.\"\n",
              "              style=\"display:none;\">\n",
              "        \n",
              "  <svg xmlns=\"http://www.w3.org/2000/svg\" height=\"24px\"viewBox=\"0 0 24 24\"\n",
              "       width=\"24px\">\n",
              "    <path d=\"M0 0h24v24H0V0z\" fill=\"none\"/>\n",
              "    <path d=\"M18.56 5.44l.94 2.06.94-2.06 2.06-.94-2.06-.94-.94-2.06-.94 2.06-2.06.94zm-11 1L8.5 8.5l.94-2.06 2.06-.94-2.06-.94L8.5 2.5l-.94 2.06-2.06.94zm10 10l.94 2.06.94-2.06 2.06-.94-2.06-.94-.94-2.06-.94 2.06-2.06.94z\"/><path d=\"M17.41 7.96l-1.37-1.37c-.4-.4-.92-.59-1.43-.59-.52 0-1.04.2-1.43.59L10.3 9.45l-7.72 7.72c-.78.78-.78 2.05 0 2.83L4 21.41c.39.39.9.59 1.41.59.51 0 1.02-.2 1.41-.59l7.78-7.78 2.81-2.81c.8-.78.8-2.07 0-2.86zM5.41 20L4 18.59l7.72-7.72 1.47 1.35L5.41 20z\"/>\n",
              "  </svg>\n",
              "      </button>\n",
              "      \n",
              "  <style>\n",
              "    .colab-df-container {\n",
              "      display:flex;\n",
              "      flex-wrap:wrap;\n",
              "      gap: 12px;\n",
              "    }\n",
              "\n",
              "    .colab-df-convert {\n",
              "      background-color: #E8F0FE;\n",
              "      border: none;\n",
              "      border-radius: 50%;\n",
              "      cursor: pointer;\n",
              "      display: none;\n",
              "      fill: #1967D2;\n",
              "      height: 32px;\n",
              "      padding: 0 0 0 0;\n",
              "      width: 32px;\n",
              "    }\n",
              "\n",
              "    .colab-df-convert:hover {\n",
              "      background-color: #E2EBFA;\n",
              "      box-shadow: 0px 1px 2px rgba(60, 64, 67, 0.3), 0px 1px 3px 1px rgba(60, 64, 67, 0.15);\n",
              "      fill: #174EA6;\n",
              "    }\n",
              "\n",
              "    [theme=dark] .colab-df-convert {\n",
              "      background-color: #3B4455;\n",
              "      fill: #D2E3FC;\n",
              "    }\n",
              "\n",
              "    [theme=dark] .colab-df-convert:hover {\n",
              "      background-color: #434B5C;\n",
              "      box-shadow: 0px 1px 3px 1px rgba(0, 0, 0, 0.15);\n",
              "      filter: drop-shadow(0px 1px 2px rgba(0, 0, 0, 0.3));\n",
              "      fill: #FFFFFF;\n",
              "    }\n",
              "  </style>\n",
              "\n",
              "      <script>\n",
              "        const buttonEl =\n",
              "          document.querySelector('#df-e96e869e-6080-4b1b-803a-9e2533f496ef button.colab-df-convert');\n",
              "        buttonEl.style.display =\n",
              "          google.colab.kernel.accessAllowed ? 'block' : 'none';\n",
              "\n",
              "        async function convertToInteractive(key) {\n",
              "          const element = document.querySelector('#df-e96e869e-6080-4b1b-803a-9e2533f496ef');\n",
              "          const dataTable =\n",
              "            await google.colab.kernel.invokeFunction('convertToInteractive',\n",
              "                                                     [key], {});\n",
              "          if (!dataTable) return;\n",
              "\n",
              "          const docLinkHtml = 'Like what you see? Visit the ' +\n",
              "            '<a target=\"_blank\" href=https://colab.research.google.com/notebooks/data_table.ipynb>data table notebook</a>'\n",
              "            + ' to learn more about interactive tables.';\n",
              "          element.innerHTML = '';\n",
              "          dataTable['output_type'] = 'display_data';\n",
              "          await google.colab.output.renderOutput(dataTable, element);\n",
              "          const docLink = document.createElement('div');\n",
              "          docLink.innerHTML = docLinkHtml;\n",
              "          element.appendChild(docLink);\n",
              "        }\n",
              "      </script>\n",
              "    </div>\n",
              "  </div>\n",
              "  "
            ]
          },
          "metadata": {},
          "execution_count": 7
        }
      ]
    },
    {
      "cell_type": "code",
      "source": [
        "# Verificando novamente a quantidade de valores nulos após a divisão\n",
        "df.isna().sum()"
      ],
      "metadata": {
        "colab": {
          "base_uri": "https://localhost:8080/"
        },
        "id": "oee4JWfIhngz",
        "outputId": "4ce9a685-0719-4160-d38a-a6e3958300b9"
      },
      "execution_count": 8,
      "outputs": [
        {
          "output_type": "execute_result",
          "data": {
            "text/plain": [
              "job           0\n",
              "age          15\n",
              "education     0\n",
              "marital       0\n",
              "default       0\n",
              "balance       0\n",
              "housing       0\n",
              "loan          0\n",
              "contact       0\n",
              "day           0\n",
              "month        40\n",
              "duration      0\n",
              "campaign      0\n",
              "pdays         0\n",
              "previous      0\n",
              "poutcome      0\n",
              "y            18\n",
              "dtype: int64"
            ]
          },
          "metadata": {},
          "execution_count": 8
        }
      ]
    },
    {
      "cell_type": "markdown",
      "source": [
        "## Tratamento de Valores Ausentes da Variável 'age'"
      ],
      "metadata": {
        "id": "UoF6_Z_Yn5pn"
      }
    },
    {
      "cell_type": "code",
      "source": [
        "# Valores únicos e tipologia \n",
        "df['age'].unique()"
      ],
      "metadata": {
        "colab": {
          "base_uri": "https://localhost:8080/"
        },
        "id": "lfKu5S9_QYcy",
        "outputId": "d3961d17-9f0e-46fb-ba0d-eeaadab6b7f7"
      },
      "execution_count": 9,
      "outputs": [
        {
          "output_type": "execute_result",
          "data": {
            "text/plain": [
              "array(['58', '44', '33', '47', '35', '28', '42', '43', '41', '29', '53',\n",
              "       '57', '51', '45', '60', '56', '32', '25', '40', '39', '52', '46',\n",
              "       '36', nan, '55', '54', '48', '24', '38', '49', '59', '31', '30',\n",
              "       '27', '34', '23', '37', '26', '50', '61', '22', '0', '21', '20',\n",
              "       '66', '62', '83', '75', '67', '70', '65', '68', '64', '69', '72',\n",
              "       '71', '19', '76', '85', '63', '90', '82', '73', '74', '78', '80',\n",
              "       '94', '79', '77', '86', '95', '81', '18', '89', '84', '87', '92',\n",
              "       '93', '88'], dtype=object)"
            ]
          },
          "metadata": {},
          "execution_count": 9
        }
      ]
    },
    {
      "cell_type": "markdown",
      "source": [
        "É possível observar que na coluna 'age' (idade), além dos valores nulos existem registros com idade igual a '0'.\n",
        "\n",
        "Existe cliente bancário com idade igual a '0'?\n",
        "\n",
        "Portanto iremos transformar todos os registros com idade igual a '0' para valores nulos."
      ],
      "metadata": {
        "id": "hQA34HvHRBBf"
      }
    },
    {
      "cell_type": "code",
      "source": [
        "# Transformando idade igual a zero para valor nulo\n",
        "df['age'] = df['age'].replace(0, np.nan)"
      ],
      "metadata": {
        "id": "3XK4yt-CSAOM"
      },
      "execution_count": 10,
      "outputs": []
    },
    {
      "cell_type": "code",
      "source": [
        "# Mudar o tipo da coluna 'age' para int\n",
        "df['age'] = df['age'].astype(float).fillna(float('nan')).astype('Int64')"
      ],
      "metadata": {
        "id": "vGH1FhFYnYIr"
      },
      "execution_count": 11,
      "outputs": []
    },
    {
      "cell_type": "code",
      "source": [
        "# Verificando percentual de valores ausentes\n",
        "df['age'].isna().mean() * 100"
      ],
      "metadata": {
        "colab": {
          "base_uri": "https://localhost:8080/"
        },
        "id": "hd2kIjTqTKtj",
        "outputId": "f428cdc6-b783-4877-fe9c-ef1e1ef338f6"
      },
      "execution_count": 12,
      "outputs": [
        {
          "output_type": "execute_result",
          "data": {
            "text/plain": [
              "0.03317776647276105"
            ]
          },
          "metadata": {},
          "execution_count": 12
        }
      ]
    },
    {
      "cell_type": "markdown",
      "source": [
        "O percentual de valores ausentes da coluna 'age' é muito baixo. Seria viável eliminar os registros com valores ausentes ou aplicar imputação. Irei optar por aplicar imputação por uma das medidas de tendência central."
      ],
      "metadata": {
        "id": "5CuEW_XITo-x"
      }
    },
    {
      "cell_type": "code",
      "source": [
        "# Criar um histograma da coluna \"age\"\n",
        "df.hist(column='age')\n",
        "plt.show()"
      ],
      "metadata": {
        "colab": {
          "base_uri": "https://localhost:8080/",
          "height": 281
        },
        "id": "vUQ1be8Tojn-",
        "outputId": "1e374315-633e-4f1c-d241-a3647e5be8a9"
      },
      "execution_count": 13,
      "outputs": [
        {
          "output_type": "display_data",
          "data": {
            "text/plain": [
              "<Figure size 432x288 with 1 Axes>"
            ],
            "image/png": "[encoded data removed]"
          },
          "metadata": {
            "needs_background": "light"
          }
        }
      ]
    },
    {
      "cell_type": "code",
      "source": [
        "# Criar um boxplot da coluna \"age\"\n",
        "df.boxplot(column='age', vert=False)\n",
        "plt.show()"
      ],
      "metadata": {
        "colab": {
          "base_uri": "https://localhost:8080/",
          "height": 265
        },
        "id": "helBuXN6pID-",
        "outputId": "6f4a2f17-dc40-480f-b824-88ebbbe8cb8f"
      },
      "execution_count": 14,
      "outputs": [
        {
          "output_type": "display_data",
          "data": {
            "text/plain": [
              "<Figure size 432x288 with 1 Axes>"
            ],
            "image/png": "[encoded data removed]"
          },
          "metadata": {
            "needs_background": "light"
          }
        }
      ]
    },
    {
      "cell_type": "code",
      "source": [
        "df['age'].unique()"
      ],
      "metadata": {
        "colab": {
          "base_uri": "https://localhost:8080/"
        },
        "id": "OqaB-6YqbHmH",
        "outputId": "354b5407-2838-46c2-d2de-22e995ddac07"
      },
      "execution_count": 15,
      "outputs": [
        {
          "output_type": "execute_result",
          "data": {
            "text/plain": [
              "<IntegerArray>\n",
              "[  58,   44,   33,   47,   35,   28,   42,   43,   41,   29,   53,   57,   51,\n",
              "   45,   60,   56,   32,   25,   40,   39,   52,   46,   36, <NA>,   55,   54,\n",
              "   48,   24,   38,   49,   59,   31,   30,   27,   34,   23,   37,   26,   50,\n",
              "   61,   22,    0,   21,   20,   66,   62,   83,   75,   67,   70,   65,   68,\n",
              "   64,   69,   72,   71,   19,   76,   85,   63,   90,   82,   73,   74,   78,\n",
              "   80,   94,   79,   77,   86,   95,   81,   18,   89,   84,   87,   92,   93,\n",
              "   88]\n",
              "Length: 79, dtype: Int64"
            ]
          },
          "metadata": {},
          "execution_count": 15
        }
      ]
    },
    {
      "cell_type": "markdown",
      "source": [
        "Analisando o histograma e o boxplot da variável 'age' é possivel perceber uma assimetria nos dados e diversos valores outliers. "
      ],
      "metadata": {
        "id": "eWVSKy3nasRK"
      }
    },
    {
      "cell_type": "code",
      "source": [
        "# Calcular a média da coluna 'age'\n",
        "media = df['age'].mean()\n",
        "\n",
        "# calcular a mediana da coluna 'B'\n",
        "mediana = df['age'].median()\n",
        "\n",
        "# calcular a moda da coluna 'B'\n",
        "moda = df['age'].mode()[0]\n",
        "\n",
        "# imprimir os resultados\n",
        "print(f\"Média: {media}\")\n",
        "print(f\"Mediana: {mediana}\")\n",
        "print(f\"Moda: {moda}\")"
      ],
      "metadata": {
        "colab": {
          "base_uri": "https://localhost:8080/"
        },
        "id": "uIaMVIivcb6O",
        "outputId": "9dc2514a-c26f-4950-bf06-e4b5e6f9e4f9"
      },
      "execution_count": 16,
      "outputs": [
        {
          "output_type": "stream",
          "name": "stdout",
          "text": [
            "Média: 40.92399769891141\n",
            "Mediana: 39.0\n",
            "Moda: 32\n"
          ]
        }
      ]
    },
    {
      "cell_type": "code",
      "source": [
        "# Verificando percentual de valores ausentes\n",
        "df['age'].isna().mean() * 100"
      ],
      "metadata": {
        "colab": {
          "base_uri": "https://localhost:8080/"
        },
        "id": "Iljr5bBKem3g",
        "outputId": "07399091-b52a-4b1e-9007-33b7fac353cc"
      },
      "execution_count": 17,
      "outputs": [
        {
          "output_type": "execute_result",
          "data": {
            "text/plain": [
              "0.03317776647276105"
            ]
          },
          "metadata": {},
          "execution_count": 17
        }
      ]
    },
    {
      "cell_type": "markdown",
      "source": [
        "Os dados parecem assimetricos, sendo assim a média não deveria ser usada, além disse a moda está muito abaixo da media e da mediana. Se imputar a moda, estaria reforçando essa informação.\n",
        "\n",
        "Portanto, os valores ausentes da variáveis 'age' serão preenchidos pela mediana."
      ],
      "metadata": {
        "id": "D9QzYV3pc6u_"
      }
    },
    {
      "cell_type": "code",
      "source": [
        "# Preencher os valores ausentes da coluna 'age' com a moda\n",
        "df['age'].fillna(mediana, inplace=True)"
      ],
      "metadata": {
        "id": "KTfm4XIKeSJs"
      },
      "execution_count": 18,
      "outputs": []
    },
    {
      "cell_type": "markdown",
      "source": [
        "## Tratamento de Valores Ausentes da Variável 'month'"
      ],
      "metadata": {
        "id": "Zq-pyYCJdTmT"
      }
    },
    {
      "cell_type": "code",
      "source": [
        "# Quantidade de valores ausentes da coluna 'month'\n",
        "df['month'].isnull().sum()"
      ],
      "metadata": {
        "colab": {
          "base_uri": "https://localhost:8080/"
        },
        "id": "VeOBnUJ9djGX",
        "outputId": "05ea50c6-ef05-4878-af2a-1197016d3aff"
      },
      "execution_count": 19,
      "outputs": [
        {
          "output_type": "execute_result",
          "data": {
            "text/plain": [
              "40"
            ]
          },
          "metadata": {},
          "execution_count": 19
        }
      ]
    },
    {
      "cell_type": "code",
      "source": [
        "# Percentual de valores ausentes da coluna 'month'\n",
        "df['month'].isnull().mean() * 100"
      ],
      "metadata": {
        "colab": {
          "base_uri": "https://localhost:8080/"
        },
        "id": "sS5vj6wJdxRv",
        "outputId": "0975f3c3-3daf-4d0d-d5f8-c60efad09d6c"
      },
      "execution_count": 20,
      "outputs": [
        {
          "output_type": "execute_result",
          "data": {
            "text/plain": [
              "0.0884740439273628"
            ]
          },
          "metadata": {},
          "execution_count": 20
        }
      ]
    },
    {
      "cell_type": "markdown",
      "source": [
        "Por decisão de negócio, irei preencher os valores ausentes da variável 'month' com a moda. \n",
        "\n",
        "A variável month é do tipo categórica, portanto não existe cálculo de média e mediana para variáveis categóricas."
      ],
      "metadata": {
        "id": "ETn0RziAfA42"
      }
    },
    {
      "cell_type": "code",
      "source": [
        "# calcular a moda da coluna 'month'\n",
        "moda = df['month'].mode()[0]\n",
        "\n",
        "# preencher os valores ausentes da coluna 'B' com a moda\n",
        "df['month'].fillna(moda, inplace=True)"
      ],
      "metadata": {
        "id": "HlhFvLfFfMic"
      },
      "execution_count": 21,
      "outputs": []
    },
    {
      "cell_type": "code",
      "source": [
        "# Percentual de valores ausentes da coluna 'month'\n",
        "df['month'].isnull().mean() * 100"
      ],
      "metadata": {
        "colab": {
          "base_uri": "https://localhost:8080/"
        },
        "id": "xi_ag3gxfZQu",
        "outputId": "7776c393-8eb1-4ad9-eada-71721281e76f"
      },
      "execution_count": 22,
      "outputs": [
        {
          "output_type": "execute_result",
          "data": {
            "text/plain": [
              "0.0"
            ]
          },
          "metadata": {},
          "execution_count": 22
        }
      ]
    },
    {
      "cell_type": "markdown",
      "source": [
        "## Tratamento de Valores Ausentes da Variável 'y' (variável alvo)\n",
        "Essa variável indica se o cliente aderiu ou não ao produto bancário."
      ],
      "metadata": {
        "id": "EyBBX6tchjG6"
      }
    },
    {
      "cell_type": "code",
      "source": [
        "# Quantidade de valores ausentes da variável alvo\n",
        "df['y'].isnull().sum()"
      ],
      "metadata": {
        "colab": {
          "base_uri": "https://localhost:8080/"
        },
        "id": "5s7h9674iKbl",
        "outputId": "462c0190-5c6b-4665-8b8c-ab605808ad17"
      },
      "execution_count": 23,
      "outputs": [
        {
          "output_type": "execute_result",
          "data": {
            "text/plain": [
              "18"
            ]
          },
          "metadata": {},
          "execution_count": 23
        }
      ]
    },
    {
      "cell_type": "code",
      "source": [
        "# Percentual de valores ausentes da variável alvo\n",
        "df['y'].isnull().mean() * 100"
      ],
      "metadata": {
        "colab": {
          "base_uri": "https://localhost:8080/"
        },
        "id": "0bRzK2xqifSq",
        "outputId": "a49c024c-4f91-4a18-d4ac-a92eb5b32f34"
      },
      "execution_count": 24,
      "outputs": [
        {
          "output_type": "execute_result",
          "data": {
            "text/plain": [
              "0.03981331976731326"
            ]
          },
          "metadata": {},
          "execution_count": 24
        }
      ]
    },
    {
      "cell_type": "markdown",
      "source": [
        "Não se aplica técnicas de imputação em uma variável alvo, o mais indicado neste caso é deletar os registros que contém valor ausente na variável alvo."
      ],
      "metadata": {
        "id": "bdcYmF5NiqEX"
      }
    },
    {
      "cell_type": "code",
      "source": [
        "# Deletar os registros que contêm valor ausente na coluna 'y'\n",
        "df = df.dropna(subset=['y'])"
      ],
      "metadata": {
        "id": "DZJ1jdZ1jAG9"
      },
      "execution_count": 25,
      "outputs": []
    },
    {
      "cell_type": "code",
      "source": [
        "# Quantidade de valores ausentes da variável alvo\n",
        "df['y'].isnull().sum()"
      ],
      "metadata": {
        "colab": {
          "base_uri": "https://localhost:8080/"
        },
        "id": "dP1SZ_ApjX78",
        "outputId": "424a0fb9-43fc-4453-d219-ae20b4e0a698"
      },
      "execution_count": 26,
      "outputs": [
        {
          "output_type": "execute_result",
          "data": {
            "text/plain": [
              "0"
            ]
          },
          "metadata": {},
          "execution_count": 26
        }
      ]
    },
    {
      "cell_type": "markdown",
      "source": [
        "## Tratamento de Valores Ausentes da Variável 'pdays'\n",
        "O dicionário de dados informa que nesta colunas, valores -1 indicam valores ausentes."
      ],
      "metadata": {
        "id": "oct8IIt7jj-l"
      }
    },
    {
      "cell_type": "code",
      "source": [
        "# Substituir os valores -1 da coluna 'pdays' por NaN\n",
        "df['pdays'] = df['pdays'].replace(-1, np.nan)"
      ],
      "metadata": {
        "id": "nOSuqXTujthG"
      },
      "execution_count": 27,
      "outputs": []
    },
    {
      "cell_type": "code",
      "source": [
        "# Percentual de valores ausentes na coluna 'pdays'\n",
        "df['pdays'].isna().mean() * 100"
      ],
      "metadata": {
        "colab": {
          "base_uri": "https://localhost:8080/"
        },
        "id": "RSzTlTkmkIlK",
        "outputId": "f7de2f11-d5d7-4cd6-b22d-3c03e1291664"
      },
      "execution_count": 28,
      "outputs": [
        {
          "output_type": "execute_result",
          "data": {
            "text/plain": [
              "81.7294713783108"
            ]
          },
          "metadata": {},
          "execution_count": 28
        }
      ]
    },
    {
      "cell_type": "markdown",
      "source": [
        "A coluna 'pdays' possui quase 82% de valores ausentes, portando é indicado deletar a coluna da análise."
      ],
      "metadata": {
        "id": "0Ay2SgyPkWhM"
      }
    },
    {
      "cell_type": "code",
      "source": [
        "# Dropar a coluna 'pdays'\n",
        "df = df.drop('pdays', axis=1)"
      ],
      "metadata": {
        "id": "w4BXC8ytkpLg"
      },
      "execution_count": 29,
      "outputs": []
    },
    {
      "cell_type": "code",
      "source": [
        "df.isna().sum()"
      ],
      "metadata": {
        "colab": {
          "base_uri": "https://localhost:8080/"
        },
        "id": "nVrZzi1beqmC",
        "outputId": "29bb5143-693c-4f31-ffa1-78573bc99216"
      },
      "execution_count": 30,
      "outputs": [
        {
          "output_type": "execute_result",
          "data": {
            "text/plain": [
              "job          0\n",
              "age          0\n",
              "education    0\n",
              "marital      0\n",
              "default      0\n",
              "balance      0\n",
              "housing      0\n",
              "loan         0\n",
              "contact      0\n",
              "day          0\n",
              "month        0\n",
              "duration     0\n",
              "campaign     0\n",
              "previous     0\n",
              "poutcome     0\n",
              "y            0\n",
              "dtype: int64"
            ]
          },
          "metadata": {},
          "execution_count": 30
        }
      ]
    },
    {
      "cell_type": "markdown",
      "source": [
        "## Análise Univariada"
      ],
      "metadata": {
        "id": "7oG4yFqffUfM"
      }
    },
    {
      "cell_type": "markdown",
      "source": [
        "### Variável: 'marital' (estado civil)"
      ],
      "metadata": {
        "id": "FvX093Hwfgql"
      }
    },
    {
      "cell_type": "code",
      "source": [
        "# Calculando a proporção da variável 'gender'\n",
        "proporcao =df['marital'].value_counts(normalize=True)\n",
        "print(proporcao)"
      ],
      "metadata": {
        "colab": {
          "base_uri": "https://localhost:8080/"
        },
        "id": "wewxXVE7fgXN",
        "outputId": "fa28b5f1-88ec-4a5f-e087-8843d19a1f8d"
      },
      "execution_count": 32,
      "outputs": [
        {
          "output_type": "stream",
          "name": "stdout",
          "text": [
            "married     0.601952\n",
            "single      0.282920\n",
            "divorced    0.115128\n",
            "Name: marital, dtype: float64\n"
          ]
        }
      ]
    },
    {
      "cell_type": "code",
      "source": [
        "# Plotando um gráfico de barras verticais com a proporção da coluna \"marital\"\n",
        "proporcao.plot(kind='bar', color=['red', 'green', 'blue'])\n",
        "plt.title('Proporção da coluna \"marital\"')\n",
        "plt.xlabel('\\nCategoria')\n",
        "plt.ylabel('Proporção')\n",
        "plt.xticks(rotation=0)\n",
        "plt.show()"
      ],
      "metadata": {
        "colab": {
          "base_uri": "https://localhost:8080/",
          "height": 307
        },
        "id": "gq_RtGZMfYzA",
        "outputId": "b3b760bc-b383-4670-d124-140b79886c76"
      },
      "execution_count": 35,
      "outputs": [
        {
          "output_type": "display_data",
          "data": {
            "text/plain": [
              "<Figure size 432x288 with 1 Axes>"
            ],
            "image/png": "[encoded data removed]"
          },
          "metadata": {
            "needs_background": "light"
          }
        }
      ]
    }
  ]
}