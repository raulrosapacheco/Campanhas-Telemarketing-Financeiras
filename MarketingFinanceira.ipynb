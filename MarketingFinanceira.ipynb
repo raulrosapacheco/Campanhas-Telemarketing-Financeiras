{
  "nbformat": 4,
  "nbformat_minor": 0,
  "metadata": {
    "colab": {
      "provenance": [],
      "authorship_tag": "ABX9TyMsBBkL7F42q3tpJKYjIZvt",
      "include_colab_link": true
    },
    "kernelspec": {
      "name": "python3",
      "display_name": "Python 3"
    },
    "language_info": {
      "name": "python"
    }
  },
  "cells": [
    {
      "cell_type": "markdown",
      "metadata": {
        "id": "view-in-github",
        "colab_type": "text"
      },
      "source": [
        "<a href=\"https://colab.research.google.com/github/raulrosapacheco/Campanhas-Telemarketing-Financeiras/blob/main/MarketingFinanceira.ipynb\" target=\"_parent\"><img src=\"https://colab.research.google.com/assets/colab-badge.svg\" alt=\"Open In Colab\"/></a>"
      ]
    },
    {
      "cell_type": "markdown",
      "source": [
        "# Análise de Dados de Campanhas de Marketing Direto (Instituição Bancária)"
      ],
      "metadata": {
        "id": "Y39sw5m7L3r1"
      }
    },
    {
      "cell_type": "markdown",
      "source": [
        "## Carregando os Pacotes"
      ],
      "metadata": {
        "id": "OdEYqE4PMTih"
      }
    },
    {
      "cell_type": "code",
      "execution_count": 1,
      "metadata": {
        "id": "4xlDNMWYLprC"
      },
      "outputs": [],
      "source": [
        "# Imports\n",
        "import pandas as pd\n",
        "import numpy as np\n",
        "import matplotlib.pyplot as plt\n",
        "import seaborn as sns\n",
        "import warnings\n",
        "warnings.filterwarnings(\"ignore\")"
      ]
    },
    {
      "cell_type": "markdown",
      "source": [
        "## Carregando os Dados"
      ],
      "metadata": {
        "id": "uk25daUONhX1"
      }
    },
    {
      "cell_type": "code",
      "source": [
        "# Carrega o DataSet bank-full.csv disponível no GitHub\n",
        "df = pd.read_csv('https://raw.githubusercontent.com/raulrosapacheco/Campanhas-Telemarketing-Financeiras/main/dados/bank-full.csv', sep=';')"
      ],
      "metadata": {
        "id": "asx171ObNkla"
      },
      "execution_count": 2,
      "outputs": []
    },
    {
      "cell_type": "code",
      "source": [
        "# Número de Registros e Variáveis\n",
        "df.shape"
      ],
      "metadata": {
        "colab": {
          "base_uri": "https://localhost:8080/"
        },
        "id": "FS-CawhSOM9R",
        "outputId": "84de7b43-6fcd-43ad-a908-7b2d606a4779"
      },
      "execution_count": 3,
      "outputs": [
        {
          "output_type": "execute_result",
          "data": {
            "text/plain": [
              "(45211, 16)"
            ]
          },
          "metadata": {},
          "execution_count": 3
        }
      ]
    },
    {
      "cell_type": "code",
      "source": [
        "# Amostra do DataSet\n",
        "df.head()"
      ],
      "metadata": {
        "colab": {
          "base_uri": "https://localhost:8080/",
          "height": 206
        },
        "id": "bUJFI6jVOrZ2",
        "outputId": "66f4bf8d-9be2-4c26-a7ff-8d897799a0b1"
      },
      "execution_count": 4,
      "outputs": [
        {
          "output_type": "execute_result",
          "data": {
            "text/plain": [
              "           job,age  education  marital default  balance housing loan  contact  \\\n",
              "0    management,58   tertiary  married      no     2143     yes   no  unknown   \n",
              "1    technician,44  secondary   single      no       29     yes   no  unknown   \n",
              "2  entrepreneur,33  secondary  married      no        2     yes  yes  unknown   \n",
              "3   blue-collar,47    unknown  married      no     1506     yes   no  unknown   \n",
              "4       unknown,33    unknown   single      no        1      no   no  unknown   \n",
              "\n",
              "   day month  duration  campaign  pdays  previous poutcome   y  \n",
              "0    5   may       261         1     -1         0  unknown  no  \n",
              "1    5   may       151         1     -1         0  unknown  no  \n",
              "2    5   may        76         1     -1         0  unknown  no  \n",
              "3    5   may        92         1     -1         0  unknown  no  \n",
              "4    5   may       198         1     -1         0  unknown  no  "
            ],
            "text/html": [
              "\n",
              "  <div id=\"df-7c4810ab-9524-49ca-9ae6-dc6b2a5bac8f\">\n",
              "    <div class=\"colab-df-container\">\n",
              "      <div>\n",
              "<style scoped>\n",
              "    .dataframe tbody tr th:only-of-type {\n",
              "        vertical-align: middle;\n",
              "    }\n",
              "\n",
              "    .dataframe tbody tr th {\n",
              "        vertical-align: top;\n",
              "    }\n",
              "\n",
              "    .dataframe thead th {\n",
              "        text-align: right;\n",
              "    }\n",
              "</style>\n",
              "<table border=\"1\" class=\"dataframe\">\n",
              "  <thead>\n",
              "    <tr style=\"text-align: right;\">\n",
              "      <th></th>\n",
              "      <th>job,age</th>\n",
              "      <th>education</th>\n",
              "      <th>marital</th>\n",
              "      <th>default</th>\n",
              "      <th>balance</th>\n",
              "      <th>housing</th>\n",
              "      <th>loan</th>\n",
              "      <th>contact</th>\n",
              "      <th>day</th>\n",
              "      <th>month</th>\n",
              "      <th>duration</th>\n",
              "      <th>campaign</th>\n",
              "      <th>pdays</th>\n",
              "      <th>previous</th>\n",
              "      <th>poutcome</th>\n",
              "      <th>y</th>\n",
              "    </tr>\n",
              "  </thead>\n",
              "  <tbody>\n",
              "    <tr>\n",
              "      <th>0</th>\n",
              "      <td>management,58</td>\n",
              "      <td>tertiary</td>\n",
              "      <td>married</td>\n",
              "      <td>no</td>\n",
              "      <td>2143</td>\n",
              "      <td>yes</td>\n",
              "      <td>no</td>\n",
              "      <td>unknown</td>\n",
              "      <td>5</td>\n",
              "      <td>may</td>\n",
              "      <td>261</td>\n",
              "      <td>1</td>\n",
              "      <td>-1</td>\n",
              "      <td>0</td>\n",
              "      <td>unknown</td>\n",
              "      <td>no</td>\n",
              "    </tr>\n",
              "    <tr>\n",
              "      <th>1</th>\n",
              "      <td>technician,44</td>\n",
              "      <td>secondary</td>\n",
              "      <td>single</td>\n",
              "      <td>no</td>\n",
              "      <td>29</td>\n",
              "      <td>yes</td>\n",
              "      <td>no</td>\n",
              "      <td>unknown</td>\n",
              "      <td>5</td>\n",
              "      <td>may</td>\n",
              "      <td>151</td>\n",
              "      <td>1</td>\n",
              "      <td>-1</td>\n",
              "      <td>0</td>\n",
              "      <td>unknown</td>\n",
              "      <td>no</td>\n",
              "    </tr>\n",
              "    <tr>\n",
              "      <th>2</th>\n",
              "      <td>entrepreneur,33</td>\n",
              "      <td>secondary</td>\n",
              "      <td>married</td>\n",
              "      <td>no</td>\n",
              "      <td>2</td>\n",
              "      <td>yes</td>\n",
              "      <td>yes</td>\n",
              "      <td>unknown</td>\n",
              "      <td>5</td>\n",
              "      <td>may</td>\n",
              "      <td>76</td>\n",
              "      <td>1</td>\n",
              "      <td>-1</td>\n",
              "      <td>0</td>\n",
              "      <td>unknown</td>\n",
              "      <td>no</td>\n",
              "    </tr>\n",
              "    <tr>\n",
              "      <th>3</th>\n",
              "      <td>blue-collar,47</td>\n",
              "      <td>unknown</td>\n",
              "      <td>married</td>\n",
              "      <td>no</td>\n",
              "      <td>1506</td>\n",
              "      <td>yes</td>\n",
              "      <td>no</td>\n",
              "      <td>unknown</td>\n",
              "      <td>5</td>\n",
              "      <td>may</td>\n",
              "      <td>92</td>\n",
              "      <td>1</td>\n",
              "      <td>-1</td>\n",
              "      <td>0</td>\n",
              "      <td>unknown</td>\n",
              "      <td>no</td>\n",
              "    </tr>\n",
              "    <tr>\n",
              "      <th>4</th>\n",
              "      <td>unknown,33</td>\n",
              "      <td>unknown</td>\n",
              "      <td>single</td>\n",
              "      <td>no</td>\n",
              "      <td>1</td>\n",
              "      <td>no</td>\n",
              "      <td>no</td>\n",
              "      <td>unknown</td>\n",
              "      <td>5</td>\n",
              "      <td>may</td>\n",
              "      <td>198</td>\n",
              "      <td>1</td>\n",
              "      <td>-1</td>\n",
              "      <td>0</td>\n",
              "      <td>unknown</td>\n",
              "      <td>no</td>\n",
              "    </tr>\n",
              "  </tbody>\n",
              "</table>\n",
              "</div>\n",
              "      <button class=\"colab-df-convert\" onclick=\"convertToInteractive('df-7c4810ab-9524-49ca-9ae6-dc6b2a5bac8f')\"\n",
              "              title=\"Convert this dataframe to an interactive table.\"\n",
              "              style=\"display:none;\">\n",
              "        \n",
              "  <svg xmlns=\"http://www.w3.org/2000/svg\" height=\"24px\"viewBox=\"0 0 24 24\"\n",
              "       width=\"24px\">\n",
              "    <path d=\"M0 0h24v24H0V0z\" fill=\"none\"/>\n",
              "    <path d=\"M18.56 5.44l.94 2.06.94-2.06 2.06-.94-2.06-.94-.94-2.06-.94 2.06-2.06.94zm-11 1L8.5 8.5l.94-2.06 2.06-.94-2.06-.94L8.5 2.5l-.94 2.06-2.06.94zm10 10l.94 2.06.94-2.06 2.06-.94-2.06-.94-.94-2.06-.94 2.06-2.06.94z\"/><path d=\"M17.41 7.96l-1.37-1.37c-.4-.4-.92-.59-1.43-.59-.52 0-1.04.2-1.43.59L10.3 9.45l-7.72 7.72c-.78.78-.78 2.05 0 2.83L4 21.41c.39.39.9.59 1.41.59.51 0 1.02-.2 1.41-.59l7.78-7.78 2.81-2.81c.8-.78.8-2.07 0-2.86zM5.41 20L4 18.59l7.72-7.72 1.47 1.35L5.41 20z\"/>\n",
              "  </svg>\n",
              "      </button>\n",
              "      \n",
              "  <style>\n",
              "    .colab-df-container {\n",
              "      display:flex;\n",
              "      flex-wrap:wrap;\n",
              "      gap: 12px;\n",
              "    }\n",
              "\n",
              "    .colab-df-convert {\n",
              "      background-color: #E8F0FE;\n",
              "      border: none;\n",
              "      border-radius: 50%;\n",
              "      cursor: pointer;\n",
              "      display: none;\n",
              "      fill: #1967D2;\n",
              "      height: 32px;\n",
              "      padding: 0 0 0 0;\n",
              "      width: 32px;\n",
              "    }\n",
              "\n",
              "    .colab-df-convert:hover {\n",
              "      background-color: #E2EBFA;\n",
              "      box-shadow: 0px 1px 2px rgba(60, 64, 67, 0.3), 0px 1px 3px 1px rgba(60, 64, 67, 0.15);\n",
              "      fill: #174EA6;\n",
              "    }\n",
              "\n",
              "    [theme=dark] .colab-df-convert {\n",
              "      background-color: #3B4455;\n",
              "      fill: #D2E3FC;\n",
              "    }\n",
              "\n",
              "    [theme=dark] .colab-df-convert:hover {\n",
              "      background-color: #434B5C;\n",
              "      box-shadow: 0px 1px 3px 1px rgba(0, 0, 0, 0.15);\n",
              "      filter: drop-shadow(0px 1px 2px rgba(0, 0, 0, 0.3));\n",
              "      fill: #FFFFFF;\n",
              "    }\n",
              "  </style>\n",
              "\n",
              "      <script>\n",
              "        const buttonEl =\n",
              "          document.querySelector('#df-7c4810ab-9524-49ca-9ae6-dc6b2a5bac8f button.colab-df-convert');\n",
              "        buttonEl.style.display =\n",
              "          google.colab.kernel.accessAllowed ? 'block' : 'none';\n",
              "\n",
              "        async function convertToInteractive(key) {\n",
              "          const element = document.querySelector('#df-7c4810ab-9524-49ca-9ae6-dc6b2a5bac8f');\n",
              "          const dataTable =\n",
              "            await google.colab.kernel.invokeFunction('convertToInteractive',\n",
              "                                                     [key], {});\n",
              "          if (!dataTable) return;\n",
              "\n",
              "          const docLinkHtml = 'Like what you see? Visit the ' +\n",
              "            '<a target=\"_blank\" href=https://colab.research.google.com/notebooks/data_table.ipynb>data table notebook</a>'\n",
              "            + ' to learn more about interactive tables.';\n",
              "          element.innerHTML = '';\n",
              "          dataTable['output_type'] = 'display_data';\n",
              "          await google.colab.output.renderOutput(dataTable, element);\n",
              "          const docLink = document.createElement('div');\n",
              "          docLink.innerHTML = docLinkHtml;\n",
              "          element.appendChild(docLink);\n",
              "        }\n",
              "      </script>\n",
              "    </div>\n",
              "  </div>\n",
              "  "
            ]
          },
          "metadata": {},
          "execution_count": 4
        }
      ]
    },
    {
      "cell_type": "markdown",
      "source": [
        "## Análise Exploratória"
      ],
      "metadata": {
        "id": "BeGVyRKaM-X3"
      }
    },
    {
      "cell_type": "code",
      "source": [
        "# Verificar os tipos de dados das variáveis\n",
        "df.info()"
      ],
      "metadata": {
        "colab": {
          "base_uri": "https://localhost:8080/"
        },
        "id": "Q13UWfYCNEvm",
        "outputId": "89c23920-7790-453a-fb72-801e444a581a"
      },
      "execution_count": 5,
      "outputs": [
        {
          "output_type": "stream",
          "name": "stdout",
          "text": [
            "<class 'pandas.core.frame.DataFrame'>\n",
            "RangeIndex: 45211 entries, 0 to 45210\n",
            "Data columns (total 16 columns):\n",
            " #   Column     Non-Null Count  Dtype \n",
            "---  ------     --------------  ----- \n",
            " 0   job,age    45211 non-null  object\n",
            " 1   education  45211 non-null  object\n",
            " 2   marital    45211 non-null  object\n",
            " 3   default    45211 non-null  object\n",
            " 4   balance    45211 non-null  int64 \n",
            " 5   housing    45211 non-null  object\n",
            " 6   loan       45211 non-null  object\n",
            " 7   contact    45211 non-null  object\n",
            " 8   day        45211 non-null  int64 \n",
            " 9   month      45171 non-null  object\n",
            " 10  duration   45211 non-null  int64 \n",
            " 11  campaign   45211 non-null  int64 \n",
            " 12  pdays      45211 non-null  int64 \n",
            " 13  previous   45211 non-null  int64 \n",
            " 14  poutcome   45211 non-null  object\n",
            " 15  y          45193 non-null  object\n",
            "dtypes: int64(6), object(10)\n",
            "memory usage: 5.5+ MB\n"
          ]
        }
      ]
    },
    {
      "cell_type": "code",
      "source": [
        "# Quantidade de valores nulos\n",
        "df.isna().sum()"
      ],
      "metadata": {
        "colab": {
          "base_uri": "https://localhost:8080/"
        },
        "id": "f5bSY1ifPJT7",
        "outputId": "d584d203-4486-4ad0-99cc-7ff9df33f29e"
      },
      "execution_count": 6,
      "outputs": [
        {
          "output_type": "execute_result",
          "data": {
            "text/plain": [
              "job,age       0\n",
              "education     0\n",
              "marital       0\n",
              "default       0\n",
              "balance       0\n",
              "housing       0\n",
              "loan          0\n",
              "contact       0\n",
              "day           0\n",
              "month        40\n",
              "duration      0\n",
              "campaign      0\n",
              "pdays         0\n",
              "previous      0\n",
              "poutcome      0\n",
              "y            18\n",
              "dtype: int64"
            ]
          },
          "metadata": {},
          "execution_count": 6
        }
      ]
    },
    {
      "cell_type": "markdown",
      "source": [
        "Já é possível identificar que a coluna job,age possuem duas informações, portanto é necessário separá-las."
      ],
      "metadata": {
        "id": "yfHu5JrFPmm_"
      }
    },
    {
      "cell_type": "code",
      "source": [
        "# Separando a coluna 'job,age'\n",
        "df[['job', 'age']] = df['job,age'].str.split(',', expand=True)\n",
        "df = df.drop(columns=['job,age'], axis =1)\n",
        "\n",
        "# Deletando espaços em branco das colunas 'job' e 'age'\n",
        "df['job'] = df['job'].apply(lambda x: x.strip())\n",
        "df['age'] = df['age'].apply(lambda x: x.strip())\n",
        "\n",
        "# Substitua valores vazios por NaN\n",
        "df['job'].replace('', np.nan, inplace=True)\n",
        "df['age'].replace('', np.nan, inplace=True)\n",
        "\n",
        "# Reordenar colunas\n",
        "new_order = ['job', 'age', 'education', 'marital', 'default', 'balance', 'housing', 'loan', 'contact', 'day', 'month', 'duration', 'campaign', 'pdays', 'previous', 'poutcome', 'y']\n",
        "df = df.reindex(columns=new_order)\n",
        "\n",
        "# Amostra\n",
        "df.head()"
      ],
      "metadata": {
        "colab": {
          "base_uri": "https://localhost:8080/",
          "height": 206
        },
        "id": "92oZjRZWQc-O",
        "outputId": "50b47238-f632-421a-ebb7-663f2fae62b5"
      },
      "execution_count": 7,
      "outputs": [
        {
          "output_type": "execute_result",
          "data": {
            "text/plain": [
              "            job age  education  marital default  balance housing loan  \\\n",
              "0    management  58   tertiary  married      no     2143     yes   no   \n",
              "1    technician  44  secondary   single      no       29     yes   no   \n",
              "2  entrepreneur  33  secondary  married      no        2     yes  yes   \n",
              "3   blue-collar  47    unknown  married      no     1506     yes   no   \n",
              "4       unknown  33    unknown   single      no        1      no   no   \n",
              "\n",
              "   contact  day month  duration  campaign  pdays  previous poutcome   y  \n",
              "0  unknown    5   may       261         1     -1         0  unknown  no  \n",
              "1  unknown    5   may       151         1     -1         0  unknown  no  \n",
              "2  unknown    5   may        76         1     -1         0  unknown  no  \n",
              "3  unknown    5   may        92         1     -1         0  unknown  no  \n",
              "4  unknown    5   may       198         1     -1         0  unknown  no  "
            ],
            "text/html": [
              "\n",
              "  <div id=\"df-328c4542-31f5-440d-bcb7-b37ab449dcdf\">\n",
              "    <div class=\"colab-df-container\">\n",
              "      <div>\n",
              "<style scoped>\n",
              "    .dataframe tbody tr th:only-of-type {\n",
              "        vertical-align: middle;\n",
              "    }\n",
              "\n",
              "    .dataframe tbody tr th {\n",
              "        vertical-align: top;\n",
              "    }\n",
              "\n",
              "    .dataframe thead th {\n",
              "        text-align: right;\n",
              "    }\n",
              "</style>\n",
              "<table border=\"1\" class=\"dataframe\">\n",
              "  <thead>\n",
              "    <tr style=\"text-align: right;\">\n",
              "      <th></th>\n",
              "      <th>job</th>\n",
              "      <th>age</th>\n",
              "      <th>education</th>\n",
              "      <th>marital</th>\n",
              "      <th>default</th>\n",
              "      <th>balance</th>\n",
              "      <th>housing</th>\n",
              "      <th>loan</th>\n",
              "      <th>contact</th>\n",
              "      <th>day</th>\n",
              "      <th>month</th>\n",
              "      <th>duration</th>\n",
              "      <th>campaign</th>\n",
              "      <th>pdays</th>\n",
              "      <th>previous</th>\n",
              "      <th>poutcome</th>\n",
              "      <th>y</th>\n",
              "    </tr>\n",
              "  </thead>\n",
              "  <tbody>\n",
              "    <tr>\n",
              "      <th>0</th>\n",
              "      <td>management</td>\n",
              "      <td>58</td>\n",
              "      <td>tertiary</td>\n",
              "      <td>married</td>\n",
              "      <td>no</td>\n",
              "      <td>2143</td>\n",
              "      <td>yes</td>\n",
              "      <td>no</td>\n",
              "      <td>unknown</td>\n",
              "      <td>5</td>\n",
              "      <td>may</td>\n",
              "      <td>261</td>\n",
              "      <td>1</td>\n",
              "      <td>-1</td>\n",
              "      <td>0</td>\n",
              "      <td>unknown</td>\n",
              "      <td>no</td>\n",
              "    </tr>\n",
              "    <tr>\n",
              "      <th>1</th>\n",
              "      <td>technician</td>\n",
              "      <td>44</td>\n",
              "      <td>secondary</td>\n",
              "      <td>single</td>\n",
              "      <td>no</td>\n",
              "      <td>29</td>\n",
              "      <td>yes</td>\n",
              "      <td>no</td>\n",
              "      <td>unknown</td>\n",
              "      <td>5</td>\n",
              "      <td>may</td>\n",
              "      <td>151</td>\n",
              "      <td>1</td>\n",
              "      <td>-1</td>\n",
              "      <td>0</td>\n",
              "      <td>unknown</td>\n",
              "      <td>no</td>\n",
              "    </tr>\n",
              "    <tr>\n",
              "      <th>2</th>\n",
              "      <td>entrepreneur</td>\n",
              "      <td>33</td>\n",
              "      <td>secondary</td>\n",
              "      <td>married</td>\n",
              "      <td>no</td>\n",
              "      <td>2</td>\n",
              "      <td>yes</td>\n",
              "      <td>yes</td>\n",
              "      <td>unknown</td>\n",
              "      <td>5</td>\n",
              "      <td>may</td>\n",
              "      <td>76</td>\n",
              "      <td>1</td>\n",
              "      <td>-1</td>\n",
              "      <td>0</td>\n",
              "      <td>unknown</td>\n",
              "      <td>no</td>\n",
              "    </tr>\n",
              "    <tr>\n",
              "      <th>3</th>\n",
              "      <td>blue-collar</td>\n",
              "      <td>47</td>\n",
              "      <td>unknown</td>\n",
              "      <td>married</td>\n",
              "      <td>no</td>\n",
              "      <td>1506</td>\n",
              "      <td>yes</td>\n",
              "      <td>no</td>\n",
              "      <td>unknown</td>\n",
              "      <td>5</td>\n",
              "      <td>may</td>\n",
              "      <td>92</td>\n",
              "      <td>1</td>\n",
              "      <td>-1</td>\n",
              "      <td>0</td>\n",
              "      <td>unknown</td>\n",
              "      <td>no</td>\n",
              "    </tr>\n",
              "    <tr>\n",
              "      <th>4</th>\n",
              "      <td>unknown</td>\n",
              "      <td>33</td>\n",
              "      <td>unknown</td>\n",
              "      <td>single</td>\n",
              "      <td>no</td>\n",
              "      <td>1</td>\n",
              "      <td>no</td>\n",
              "      <td>no</td>\n",
              "      <td>unknown</td>\n",
              "      <td>5</td>\n",
              "      <td>may</td>\n",
              "      <td>198</td>\n",
              "      <td>1</td>\n",
              "      <td>-1</td>\n",
              "      <td>0</td>\n",
              "      <td>unknown</td>\n",
              "      <td>no</td>\n",
              "    </tr>\n",
              "  </tbody>\n",
              "</table>\n",
              "</div>\n",
              "      <button class=\"colab-df-convert\" onclick=\"convertToInteractive('df-328c4542-31f5-440d-bcb7-b37ab449dcdf')\"\n",
              "              title=\"Convert this dataframe to an interactive table.\"\n",
              "              style=\"display:none;\">\n",
              "        \n",
              "  <svg xmlns=\"http://www.w3.org/2000/svg\" height=\"24px\"viewBox=\"0 0 24 24\"\n",
              "       width=\"24px\">\n",
              "    <path d=\"M0 0h24v24H0V0z\" fill=\"none\"/>\n",
              "    <path d=\"M18.56 5.44l.94 2.06.94-2.06 2.06-.94-2.06-.94-.94-2.06-.94 2.06-2.06.94zm-11 1L8.5 8.5l.94-2.06 2.06-.94-2.06-.94L8.5 2.5l-.94 2.06-2.06.94zm10 10l.94 2.06.94-2.06 2.06-.94-2.06-.94-.94-2.06-.94 2.06-2.06.94z\"/><path d=\"M17.41 7.96l-1.37-1.37c-.4-.4-.92-.59-1.43-.59-.52 0-1.04.2-1.43.59L10.3 9.45l-7.72 7.72c-.78.78-.78 2.05 0 2.83L4 21.41c.39.39.9.59 1.41.59.51 0 1.02-.2 1.41-.59l7.78-7.78 2.81-2.81c.8-.78.8-2.07 0-2.86zM5.41 20L4 18.59l7.72-7.72 1.47 1.35L5.41 20z\"/>\n",
              "  </svg>\n",
              "      </button>\n",
              "      \n",
              "  <style>\n",
              "    .colab-df-container {\n",
              "      display:flex;\n",
              "      flex-wrap:wrap;\n",
              "      gap: 12px;\n",
              "    }\n",
              "\n",
              "    .colab-df-convert {\n",
              "      background-color: #E8F0FE;\n",
              "      border: none;\n",
              "      border-radius: 50%;\n",
              "      cursor: pointer;\n",
              "      display: none;\n",
              "      fill: #1967D2;\n",
              "      height: 32px;\n",
              "      padding: 0 0 0 0;\n",
              "      width: 32px;\n",
              "    }\n",
              "\n",
              "    .colab-df-convert:hover {\n",
              "      background-color: #E2EBFA;\n",
              "      box-shadow: 0px 1px 2px rgba(60, 64, 67, 0.3), 0px 1px 3px 1px rgba(60, 64, 67, 0.15);\n",
              "      fill: #174EA6;\n",
              "    }\n",
              "\n",
              "    [theme=dark] .colab-df-convert {\n",
              "      background-color: #3B4455;\n",
              "      fill: #D2E3FC;\n",
              "    }\n",
              "\n",
              "    [theme=dark] .colab-df-convert:hover {\n",
              "      background-color: #434B5C;\n",
              "      box-shadow: 0px 1px 3px 1px rgba(0, 0, 0, 0.15);\n",
              "      filter: drop-shadow(0px 1px 2px rgba(0, 0, 0, 0.3));\n",
              "      fill: #FFFFFF;\n",
              "    }\n",
              "  </style>\n",
              "\n",
              "      <script>\n",
              "        const buttonEl =\n",
              "          document.querySelector('#df-328c4542-31f5-440d-bcb7-b37ab449dcdf button.colab-df-convert');\n",
              "        buttonEl.style.display =\n",
              "          google.colab.kernel.accessAllowed ? 'block' : 'none';\n",
              "\n",
              "        async function convertToInteractive(key) {\n",
              "          const element = document.querySelector('#df-328c4542-31f5-440d-bcb7-b37ab449dcdf');\n",
              "          const dataTable =\n",
              "            await google.colab.kernel.invokeFunction('convertToInteractive',\n",
              "                                                     [key], {});\n",
              "          if (!dataTable) return;\n",
              "\n",
              "          const docLinkHtml = 'Like what you see? Visit the ' +\n",
              "            '<a target=\"_blank\" href=https://colab.research.google.com/notebooks/data_table.ipynb>data table notebook</a>'\n",
              "            + ' to learn more about interactive tables.';\n",
              "          element.innerHTML = '';\n",
              "          dataTable['output_type'] = 'display_data';\n",
              "          await google.colab.output.renderOutput(dataTable, element);\n",
              "          const docLink = document.createElement('div');\n",
              "          docLink.innerHTML = docLinkHtml;\n",
              "          element.appendChild(docLink);\n",
              "        }\n",
              "      </script>\n",
              "    </div>\n",
              "  </div>\n",
              "  "
            ]
          },
          "metadata": {},
          "execution_count": 7
        }
      ]
    },
    {
      "cell_type": "code",
      "source": [
        "# Verificando novamente a quantidade de valores nulos após a divisão\n",
        "df.isna().sum()"
      ],
      "metadata": {
        "colab": {
          "base_uri": "https://localhost:8080/"
        },
        "id": "oee4JWfIhngz",
        "outputId": "ac3d1779-7624-4d4b-a863-de656a2029b8"
      },
      "execution_count": 8,
      "outputs": [
        {
          "output_type": "execute_result",
          "data": {
            "text/plain": [
              "job           0\n",
              "age          15\n",
              "education     0\n",
              "marital       0\n",
              "default       0\n",
              "balance       0\n",
              "housing       0\n",
              "loan          0\n",
              "contact       0\n",
              "day           0\n",
              "month        40\n",
              "duration      0\n",
              "campaign      0\n",
              "pdays         0\n",
              "previous      0\n",
              "poutcome      0\n",
              "y            18\n",
              "dtype: int64"
            ]
          },
          "metadata": {},
          "execution_count": 8
        }
      ]
    },
    {
      "cell_type": "markdown",
      "source": [
        "## Tratamento de Valores Ausentes da Variável 'age'"
      ],
      "metadata": {
        "id": "UoF6_Z_Yn5pn"
      }
    },
    {
      "cell_type": "code",
      "source": [
        "# Valores únicos e tipologia \n",
        "df['age'].unique()"
      ],
      "metadata": {
        "colab": {
          "base_uri": "https://localhost:8080/"
        },
        "id": "lfKu5S9_QYcy",
        "outputId": "d1a102c7-0dc4-4abc-9c45-66bbaad1ea02"
      },
      "execution_count": 9,
      "outputs": [
        {
          "output_type": "execute_result",
          "data": {
            "text/plain": [
              "array(['58', '44', '33', '47', '35', '28', '42', '43', '41', '29', '53',\n",
              "       '57', '51', '45', '60', '56', '32', '25', '40', '39', '52', '46',\n",
              "       '36', nan, '55', '54', '48', '24', '38', '49', '59', '31', '30',\n",
              "       '27', '34', '23', '37', '26', '50', '61', '22', '0', '21', '20',\n",
              "       '66', '62', '83', '75', '67', '70', '65', '68', '64', '69', '72',\n",
              "       '71', '19', '76', '85', '63', '90', '82', '73', '74', '78', '80',\n",
              "       '94', '79', '77', '86', '95', '81', '18', '89', '84', '87', '92',\n",
              "       '93', '88'], dtype=object)"
            ]
          },
          "metadata": {},
          "execution_count": 9
        }
      ]
    },
    {
      "cell_type": "markdown",
      "source": [
        "É possível observar que na coluna 'age' (idade), além dos valores nulos existem registros com idade igual a '0'.\n",
        "\n",
        "Existe cliente bancário com idade igual a '0'?\n",
        "\n",
        "Portanto iremos transformar todos os registros com idade igual a '0' para valores nulos."
      ],
      "metadata": {
        "id": "hQA34HvHRBBf"
      }
    },
    {
      "cell_type": "code",
      "source": [
        "# Transformando idade igual a '0' para valor nulo\n",
        "df['age'] = df['age'].replace('0', np.nan)"
      ],
      "metadata": {
        "id": "3XK4yt-CSAOM"
      },
      "execution_count": 10,
      "outputs": []
    },
    {
      "cell_type": "code",
      "source": [
        "# Mudar o tipo da coluna 'age' para int, com o objetivo de criar um histograma e um boxplot\n",
        "df['age'] = df['age'].astype(float).fillna(float('nan')).astype('Int64')"
      ],
      "metadata": {
        "id": "vGH1FhFYnYIr"
      },
      "execution_count": 11,
      "outputs": []
    },
    {
      "cell_type": "code",
      "source": [
        "# Verificando percentual de valores ausentes\n",
        "df['age'].isna().mean() * 100"
      ],
      "metadata": {
        "colab": {
          "base_uri": "https://localhost:8080/"
        },
        "id": "hd2kIjTqTKtj",
        "outputId": "4820751b-96bc-4dae-cb9a-193a9e3d6ee3"
      },
      "execution_count": 12,
      "outputs": [
        {
          "output_type": "execute_result",
          "data": {
            "text/plain": [
              "0.05529627745460176"
            ]
          },
          "metadata": {},
          "execution_count": 12
        }
      ]
    },
    {
      "cell_type": "markdown",
      "source": [
        "O percentual de valores ausentes da coluna 'age' é muito baixo. Seria viável eliminar os registros com valores ausentes ou aplicar imputação. Irei optar por aplicar imputação por uma das medidas de tendência central."
      ],
      "metadata": {
        "id": "5CuEW_XITo-x"
      }
    },
    {
      "cell_type": "code",
      "source": [
        "# Criar um histograma da coluna \"age\"\n",
        "df.hist(column='age')\n",
        "plt.show()"
      ],
      "metadata": {
        "colab": {
          "base_uri": "https://localhost:8080/",
          "height": 281
        },
        "id": "vUQ1be8Tojn-",
        "outputId": "e44dd30d-fd97-4a9d-bf52-c856183e6837"
      },
      "execution_count": 13,
      "outputs": [
        {
          "output_type": "display_data",
          "data": {
            "text/plain": [
              "<Figure size 432x288 with 1 Axes>"
            ],
            "image/png": "[encoded data removed]"
          },
          "metadata": {
            "needs_background": "light"
          }
        }
      ]
    },
    {
      "cell_type": "code",
      "source": [
        "# Criar um boxplot da coluna \"age\"\n",
        "df.boxplot(column='age', vert=False)\n",
        "plt.show()"
      ],
      "metadata": {
        "colab": {
          "base_uri": "https://localhost:8080/",
          "height": 265
        },
        "id": "helBuXN6pID-",
        "outputId": "dec65239-5db2-4597-8f88-8953884ade34"
      },
      "execution_count": 14,
      "outputs": [
        {
          "output_type": "display_data",
          "data": {
            "text/plain": [
              "<Figure size 432x288 with 1 Axes>"
            ],
            "image/png": "[encoded data removed]"
          },
          "metadata": {
            "needs_background": "light"
          }
        }
      ]
    },
    {
      "cell_type": "code",
      "source": [
        "df['age'].unique()"
      ],
      "metadata": {
        "colab": {
          "base_uri": "https://localhost:8080/"
        },
        "id": "OqaB-6YqbHmH",
        "outputId": "8e5ac896-dd9d-490b-9b75-abffd2f65679"
      },
      "execution_count": 15,
      "outputs": [
        {
          "output_type": "execute_result",
          "data": {
            "text/plain": [
              "<IntegerArray>\n",
              "[  58,   44,   33,   47,   35,   28,   42,   43,   41,   29,   53,   57,   51,\n",
              "   45,   60,   56,   32,   25,   40,   39,   52,   46,   36, <NA>,   55,   54,\n",
              "   48,   24,   38,   49,   59,   31,   30,   27,   34,   23,   37,   26,   50,\n",
              "   61,   22,   21,   20,   66,   62,   83,   75,   67,   70,   65,   68,   64,\n",
              "   69,   72,   71,   19,   76,   85,   63,   90,   82,   73,   74,   78,   80,\n",
              "   94,   79,   77,   86,   95,   81,   18,   89,   84,   87,   92,   93,   88]\n",
              "Length: 78, dtype: Int64"
            ]
          },
          "metadata": {},
          "execution_count": 15
        }
      ]
    },
    {
      "cell_type": "markdown",
      "source": [
        "Analisando o histograma e o boxplot da variável 'age' é possivel perceber uma assimetria nos dados e diversos valores outliers. "
      ],
      "metadata": {
        "id": "eWVSKy3nasRK"
      }
    },
    {
      "cell_type": "code",
      "source": [
        "# Calcular a média da coluna 'age'\n",
        "media = df['age'].mean()\n",
        "\n",
        "# calcular a mediana da coluna 'B'\n",
        "mediana = df['age'].median()\n",
        "\n",
        "# calcular a moda da coluna 'B'\n",
        "moda = df['age'].mode()[0]\n",
        "\n",
        "# imprimir os resultados\n",
        "print(f\"Média: {media}\")\n",
        "print(f\"Mediana: {mediana}\")\n",
        "print(f\"Moda: {moda}\")"
      ],
      "metadata": {
        "colab": {
          "base_uri": "https://localhost:8080/"
        },
        "id": "uIaMVIivcb6O",
        "outputId": "85b9e637-8a1c-41ab-fea9-dbdad44d3a16"
      },
      "execution_count": 16,
      "outputs": [
        {
          "output_type": "stream",
          "name": "stdout",
          "text": [
            "Média: 40.933054485902716\n",
            "Mediana: 39.0\n",
            "Moda: 32\n"
          ]
        }
      ]
    },
    {
      "cell_type": "code",
      "source": [
        "# Verificando percentual de valores ausentes\n",
        "df['age'].isna().mean() * 100"
      ],
      "metadata": {
        "colab": {
          "base_uri": "https://localhost:8080/"
        },
        "id": "Iljr5bBKem3g",
        "outputId": "9dcbcff9-001e-43b3-df97-d7e2758292d4"
      },
      "execution_count": 17,
      "outputs": [
        {
          "output_type": "execute_result",
          "data": {
            "text/plain": [
              "0.05529627745460176"
            ]
          },
          "metadata": {},
          "execution_count": 17
        }
      ]
    },
    {
      "cell_type": "markdown",
      "source": [
        "Os dados parecem assimetricos, sendo assim a média não deveria ser usada, além disso a moda está muito abaixo da media e da mediana. Se imputar a moda, estaria reforçando essa informação.\n",
        "\n",
        "Portanto, os valores ausentes da variáveis 'age' serão preenchidos pela mediana."
      ],
      "metadata": {
        "id": "D9QzYV3pc6u_"
      }
    },
    {
      "cell_type": "code",
      "source": [
        "# Preencher os valores ausentes da coluna 'age' com a moda\n",
        "df['age'].fillna(mediana, inplace=True)"
      ],
      "metadata": {
        "id": "KTfm4XIKeSJs"
      },
      "execution_count": 18,
      "outputs": []
    },
    {
      "cell_type": "markdown",
      "source": [
        "## Tratamento de Valores Ausentes da Variável 'month'"
      ],
      "metadata": {
        "id": "Zq-pyYCJdTmT"
      }
    },
    {
      "cell_type": "code",
      "source": [
        "# Quantidade de valores ausentes da coluna 'month'\n",
        "df['month'].isnull().sum()"
      ],
      "metadata": {
        "colab": {
          "base_uri": "https://localhost:8080/"
        },
        "id": "VeOBnUJ9djGX",
        "outputId": "c8f1182d-0ad8-4b5b-a09a-cc66d2c7a6c9"
      },
      "execution_count": 19,
      "outputs": [
        {
          "output_type": "execute_result",
          "data": {
            "text/plain": [
              "40"
            ]
          },
          "metadata": {},
          "execution_count": 19
        }
      ]
    },
    {
      "cell_type": "code",
      "source": [
        "# Percentual de valores ausentes da coluna 'month'\n",
        "df['month'].isnull().mean() * 100"
      ],
      "metadata": {
        "colab": {
          "base_uri": "https://localhost:8080/"
        },
        "id": "sS5vj6wJdxRv",
        "outputId": "17cebea3-bc0b-4cb5-c820-04437a70efd1"
      },
      "execution_count": 20,
      "outputs": [
        {
          "output_type": "execute_result",
          "data": {
            "text/plain": [
              "0.0884740439273628"
            ]
          },
          "metadata": {},
          "execution_count": 20
        }
      ]
    },
    {
      "cell_type": "markdown",
      "source": [
        "Por decisão de negócio, irei preencher os valores ausentes da variável 'month' com a moda. \n",
        "\n",
        "A variável month é do tipo categórica, portanto não existe cálculo de média e mediana para variáveis categóricas."
      ],
      "metadata": {
        "id": "ETn0RziAfA42"
      }
    },
    {
      "cell_type": "code",
      "source": [
        "# calcular a moda da coluna 'month'\n",
        "moda = df['month'].mode()[0]\n",
        "\n",
        "# preencher os valores ausentes da coluna 'B' com a moda\n",
        "df['month'].fillna(moda, inplace=True)"
      ],
      "metadata": {
        "id": "HlhFvLfFfMic"
      },
      "execution_count": 21,
      "outputs": []
    },
    {
      "cell_type": "code",
      "source": [
        "# Percentual de valores ausentes da coluna 'month'\n",
        "df['month'].isnull().mean() * 100"
      ],
      "metadata": {
        "colab": {
          "base_uri": "https://localhost:8080/"
        },
        "id": "xi_ag3gxfZQu",
        "outputId": "914c7998-c3d9-4549-e134-4d39ecac1ede"
      },
      "execution_count": 22,
      "outputs": [
        {
          "output_type": "execute_result",
          "data": {
            "text/plain": [
              "0.0"
            ]
          },
          "metadata": {},
          "execution_count": 22
        }
      ]
    },
    {
      "cell_type": "markdown",
      "source": [
        "## Tratamento de Valores Ausentes da Variável 'y' (variável alvo)\n",
        "Essa variável indica se o cliente aderiu ou não ao produto bancário."
      ],
      "metadata": {
        "id": "EyBBX6tchjG6"
      }
    },
    {
      "cell_type": "code",
      "source": [
        "# Quantidade de valores ausentes da variável alvo\n",
        "df['y'].isnull().sum()"
      ],
      "metadata": {
        "colab": {
          "base_uri": "https://localhost:8080/"
        },
        "id": "5s7h9674iKbl",
        "outputId": "9e7ef2fa-c5a4-4050-e94c-bcb027e04bbe"
      },
      "execution_count": 23,
      "outputs": [
        {
          "output_type": "execute_result",
          "data": {
            "text/plain": [
              "18"
            ]
          },
          "metadata": {},
          "execution_count": 23
        }
      ]
    },
    {
      "cell_type": "code",
      "source": [
        "# Percentual de valores ausentes da variável alvo\n",
        "df['y'].isnull().mean() * 100"
      ],
      "metadata": {
        "colab": {
          "base_uri": "https://localhost:8080/"
        },
        "id": "0bRzK2xqifSq",
        "outputId": "e6661441-c962-4a7f-8c32-0a5cbf87c6b8"
      },
      "execution_count": 24,
      "outputs": [
        {
          "output_type": "execute_result",
          "data": {
            "text/plain": [
              "0.03981331976731326"
            ]
          },
          "metadata": {},
          "execution_count": 24
        }
      ]
    },
    {
      "cell_type": "markdown",
      "source": [
        "Não é indicado usar técnicas de imputação em uma variável alvo, o mais indicado neste caso é deletar os registros que contém valor ausente."
      ],
      "metadata": {
        "id": "bdcYmF5NiqEX"
      }
    },
    {
      "cell_type": "code",
      "source": [
        "# Deletar os registros que contêm valor ausente na coluna 'y'\n",
        "df = df.dropna(subset=['y'])"
      ],
      "metadata": {
        "id": "DZJ1jdZ1jAG9"
      },
      "execution_count": 25,
      "outputs": []
    },
    {
      "cell_type": "code",
      "source": [
        "# Quantidade de valores ausentes da variável alvo\n",
        "df['y'].isnull().sum()"
      ],
      "metadata": {
        "colab": {
          "base_uri": "https://localhost:8080/"
        },
        "id": "dP1SZ_ApjX78",
        "outputId": "260b73f7-0313-4567-bce2-50e99285875f"
      },
      "execution_count": 26,
      "outputs": [
        {
          "output_type": "execute_result",
          "data": {
            "text/plain": [
              "0"
            ]
          },
          "metadata": {},
          "execution_count": 26
        }
      ]
    },
    {
      "cell_type": "markdown",
      "source": [
        "## Tratamento de Valores Ausentes da Variável 'pdays'\n",
        "O dicionário de dados informa que nesta colunas, valores -1 indicam valores ausentes."
      ],
      "metadata": {
        "id": "oct8IIt7jj-l"
      }
    },
    {
      "cell_type": "code",
      "source": [
        "# Substituir os valores -1 da coluna 'pdays' por NaN\n",
        "df['pdays'] = df['pdays'].replace(-1, np.nan)"
      ],
      "metadata": {
        "id": "nOSuqXTujthG"
      },
      "execution_count": 27,
      "outputs": []
    },
    {
      "cell_type": "code",
      "source": [
        "# Percentual de valores ausentes na coluna 'pdays'\n",
        "df['pdays'].isna().mean() * 100"
      ],
      "metadata": {
        "colab": {
          "base_uri": "https://localhost:8080/"
        },
        "id": "RSzTlTkmkIlK",
        "outputId": "5afd0f8b-e95c-420d-b36b-0e426727f606"
      },
      "execution_count": 28,
      "outputs": [
        {
          "output_type": "execute_result",
          "data": {
            "text/plain": [
              "81.7294713783108"
            ]
          },
          "metadata": {},
          "execution_count": 28
        }
      ]
    },
    {
      "cell_type": "markdown",
      "source": [
        "A coluna 'pdays' possui quase 82% de valores ausentes, portando é indicado deletar a coluna da análise."
      ],
      "metadata": {
        "id": "0Ay2SgyPkWhM"
      }
    },
    {
      "cell_type": "code",
      "source": [
        "# Dropar a coluna 'pdays'\n",
        "df = df.drop('pdays', axis=1)"
      ],
      "metadata": {
        "id": "w4BXC8ytkpLg"
      },
      "execution_count": 29,
      "outputs": []
    },
    {
      "cell_type": "code",
      "source": [
        "df.isna().sum()"
      ],
      "metadata": {
        "colab": {
          "base_uri": "https://localhost:8080/"
        },
        "id": "nVrZzi1beqmC",
        "outputId": "49db017a-38b4-4a70-acd5-cb06bffc2e01"
      },
      "execution_count": 30,
      "outputs": [
        {
          "output_type": "execute_result",
          "data": {
            "text/plain": [
              "job          0\n",
              "age          0\n",
              "education    0\n",
              "marital      0\n",
              "default      0\n",
              "balance      0\n",
              "housing      0\n",
              "loan         0\n",
              "contact      0\n",
              "day          0\n",
              "month        0\n",
              "duration     0\n",
              "campaign     0\n",
              "previous     0\n",
              "poutcome     0\n",
              "y            0\n",
              "dtype: int64"
            ]
          },
          "metadata": {},
          "execution_count": 30
        }
      ]
    },
    {
      "cell_type": "markdown",
      "source": [
        "## Análise da Variável: 'age'"
      ],
      "metadata": {
        "id": "7oG4yFqffUfM"
      }
    },
    {
      "cell_type": "code",
      "source": [
        "# Calcular o valor máximo de coluna 'age'\n",
        "valor_maximo = df['age'].max()\n",
        "print('Valor máximo: ', valor_maximo)\n",
        "\n",
        "# Calcular o valor mínimo da coluna 'age'\n",
        "valor_minimo = df['age'].min()\n",
        "print('Valor minimo: ', valor_minimo)"
      ],
      "metadata": {
        "colab": {
          "base_uri": "https://localhost:8080/"
        },
        "id": "YkLJo_2nWNR7",
        "outputId": "18bae334-c2e8-4352-9a78-0169fbfd6afd"
      },
      "execution_count": 31,
      "outputs": [
        {
          "output_type": "stream",
          "name": "stdout",
          "text": [
            "Valor máximo:  95\n",
            "Valor minimo:  18\n"
          ]
        }
      ]
    },
    {
      "cell_type": "code",
      "source": [
        "# Criar uma lista de intervalos para cada faixa etária\n",
        "faixas_etarias = [17, 23, 29, 35, 41, 47, 53, 59, 65, 71, 77, 83, 89, 94]\n",
        "\n",
        "# Criar uma lista de rótulos para cada intervalo\n",
        "nomes_faixas_etarias = ['18-23', '24-29', '30-35', '36-41', '42-47', '48-53', '54-59', '60-65', '66-71', '72-77', '78-83', '84-89', '90-95']\n",
        "\n",
        "# Adicionar uma nova coluna com a faixa etária\n",
        "df['age_group'] = pd.cut(df['age'], bins=faixas_etarias, labels=nomes_faixas_etarias)\n",
        "\n",
        "df.head()\n"
      ],
      "metadata": {
        "colab": {
          "base_uri": "https://localhost:8080/",
          "height": 206
        },
        "id": "qRF24ymxST9Q",
        "outputId": "5e8265c7-d5d1-43e1-962b-775baf8861ab"
      },
      "execution_count": 32,
      "outputs": [
        {
          "output_type": "execute_result",
          "data": {
            "text/plain": [
              "            job  age  education  marital default  balance housing loan  \\\n",
              "0    management   58   tertiary  married      no     2143     yes   no   \n",
              "1    technician   44  secondary   single      no       29     yes   no   \n",
              "2  entrepreneur   33  secondary  married      no        2     yes  yes   \n",
              "3   blue-collar   47    unknown  married      no     1506     yes   no   \n",
              "4       unknown   33    unknown   single      no        1      no   no   \n",
              "\n",
              "   contact  day month  duration  campaign  previous poutcome   y age_group  \n",
              "0  unknown    5   may       261         1         0  unknown  no     54-59  \n",
              "1  unknown    5   may       151         1         0  unknown  no     42-47  \n",
              "2  unknown    5   may        76         1         0  unknown  no     30-35  \n",
              "3  unknown    5   may        92         1         0  unknown  no     42-47  \n",
              "4  unknown    5   may       198         1         0  unknown  no     30-35  "
            ],
            "text/html": [
              "\n",
              "  <div id=\"df-79f74bd2-5b59-4693-988d-b091c6596ecc\">\n",
              "    <div class=\"colab-df-container\">\n",
              "      <div>\n",
              "<style scoped>\n",
              "    .dataframe tbody tr th:only-of-type {\n",
              "        vertical-align: middle;\n",
              "    }\n",
              "\n",
              "    .dataframe tbody tr th {\n",
              "        vertical-align: top;\n",
              "    }\n",
              "\n",
              "    .dataframe thead th {\n",
              "        text-align: right;\n",
              "    }\n",
              "</style>\n",
              "<table border=\"1\" class=\"dataframe\">\n",
              "  <thead>\n",
              "    <tr style=\"text-align: right;\">\n",
              "      <th></th>\n",
              "      <th>job</th>\n",
              "      <th>age</th>\n",
              "      <th>education</th>\n",
              "      <th>marital</th>\n",
              "      <th>default</th>\n",
              "      <th>balance</th>\n",
              "      <th>housing</th>\n",
              "      <th>loan</th>\n",
              "      <th>contact</th>\n",
              "      <th>day</th>\n",
              "      <th>month</th>\n",
              "      <th>duration</th>\n",
              "      <th>campaign</th>\n",
              "      <th>previous</th>\n",
              "      <th>poutcome</th>\n",
              "      <th>y</th>\n",
              "      <th>age_group</th>\n",
              "    </tr>\n",
              "  </thead>\n",
              "  <tbody>\n",
              "    <tr>\n",
              "      <th>0</th>\n",
              "      <td>management</td>\n",
              "      <td>58</td>\n",
              "      <td>tertiary</td>\n",
              "      <td>married</td>\n",
              "      <td>no</td>\n",
              "      <td>2143</td>\n",
              "      <td>yes</td>\n",
              "      <td>no</td>\n",
              "      <td>unknown</td>\n",
              "      <td>5</td>\n",
              "      <td>may</td>\n",
              "      <td>261</td>\n",
              "      <td>1</td>\n",
              "      <td>0</td>\n",
              "      <td>unknown</td>\n",
              "      <td>no</td>\n",
              "      <td>54-59</td>\n",
              "    </tr>\n",
              "    <tr>\n",
              "      <th>1</th>\n",
              "      <td>technician</td>\n",
              "      <td>44</td>\n",
              "      <td>secondary</td>\n",
              "      <td>single</td>\n",
              "      <td>no</td>\n",
              "      <td>29</td>\n",
              "      <td>yes</td>\n",
              "      <td>no</td>\n",
              "      <td>unknown</td>\n",
              "      <td>5</td>\n",
              "      <td>may</td>\n",
              "      <td>151</td>\n",
              "      <td>1</td>\n",
              "      <td>0</td>\n",
              "      <td>unknown</td>\n",
              "      <td>no</td>\n",
              "      <td>42-47</td>\n",
              "    </tr>\n",
              "    <tr>\n",
              "      <th>2</th>\n",
              "      <td>entrepreneur</td>\n",
              "      <td>33</td>\n",
              "      <td>secondary</td>\n",
              "      <td>married</td>\n",
              "      <td>no</td>\n",
              "      <td>2</td>\n",
              "      <td>yes</td>\n",
              "      <td>yes</td>\n",
              "      <td>unknown</td>\n",
              "      <td>5</td>\n",
              "      <td>may</td>\n",
              "      <td>76</td>\n",
              "      <td>1</td>\n",
              "      <td>0</td>\n",
              "      <td>unknown</td>\n",
              "      <td>no</td>\n",
              "      <td>30-35</td>\n",
              "    </tr>\n",
              "    <tr>\n",
              "      <th>3</th>\n",
              "      <td>blue-collar</td>\n",
              "      <td>47</td>\n",
              "      <td>unknown</td>\n",
              "      <td>married</td>\n",
              "      <td>no</td>\n",
              "      <td>1506</td>\n",
              "      <td>yes</td>\n",
              "      <td>no</td>\n",
              "      <td>unknown</td>\n",
              "      <td>5</td>\n",
              "      <td>may</td>\n",
              "      <td>92</td>\n",
              "      <td>1</td>\n",
              "      <td>0</td>\n",
              "      <td>unknown</td>\n",
              "      <td>no</td>\n",
              "      <td>42-47</td>\n",
              "    </tr>\n",
              "    <tr>\n",
              "      <th>4</th>\n",
              "      <td>unknown</td>\n",
              "      <td>33</td>\n",
              "      <td>unknown</td>\n",
              "      <td>single</td>\n",
              "      <td>no</td>\n",
              "      <td>1</td>\n",
              "      <td>no</td>\n",
              "      <td>no</td>\n",
              "      <td>unknown</td>\n",
              "      <td>5</td>\n",
              "      <td>may</td>\n",
              "      <td>198</td>\n",
              "      <td>1</td>\n",
              "      <td>0</td>\n",
              "      <td>unknown</td>\n",
              "      <td>no</td>\n",
              "      <td>30-35</td>\n",
              "    </tr>\n",
              "  </tbody>\n",
              "</table>\n",
              "</div>\n",
              "      <button class=\"colab-df-convert\" onclick=\"convertToInteractive('df-79f74bd2-5b59-4693-988d-b091c6596ecc')\"\n",
              "              title=\"Convert this dataframe to an interactive table.\"\n",
              "              style=\"display:none;\">\n",
              "        \n",
              "  <svg xmlns=\"http://www.w3.org/2000/svg\" height=\"24px\"viewBox=\"0 0 24 24\"\n",
              "       width=\"24px\">\n",
              "    <path d=\"M0 0h24v24H0V0z\" fill=\"none\"/>\n",
              "    <path d=\"M18.56 5.44l.94 2.06.94-2.06 2.06-.94-2.06-.94-.94-2.06-.94 2.06-2.06.94zm-11 1L8.5 8.5l.94-2.06 2.06-.94-2.06-.94L8.5 2.5l-.94 2.06-2.06.94zm10 10l.94 2.06.94-2.06 2.06-.94-2.06-.94-.94-2.06-.94 2.06-2.06.94z\"/><path d=\"M17.41 7.96l-1.37-1.37c-.4-.4-.92-.59-1.43-.59-.52 0-1.04.2-1.43.59L10.3 9.45l-7.72 7.72c-.78.78-.78 2.05 0 2.83L4 21.41c.39.39.9.59 1.41.59.51 0 1.02-.2 1.41-.59l7.78-7.78 2.81-2.81c.8-.78.8-2.07 0-2.86zM5.41 20L4 18.59l7.72-7.72 1.47 1.35L5.41 20z\"/>\n",
              "  </svg>\n",
              "      </button>\n",
              "      \n",
              "  <style>\n",
              "    .colab-df-container {\n",
              "      display:flex;\n",
              "      flex-wrap:wrap;\n",
              "      gap: 12px;\n",
              "    }\n",
              "\n",
              "    .colab-df-convert {\n",
              "      background-color: #E8F0FE;\n",
              "      border: none;\n",
              "      border-radius: 50%;\n",
              "      cursor: pointer;\n",
              "      display: none;\n",
              "      fill: #1967D2;\n",
              "      height: 32px;\n",
              "      padding: 0 0 0 0;\n",
              "      width: 32px;\n",
              "    }\n",
              "\n",
              "    .colab-df-convert:hover {\n",
              "      background-color: #E2EBFA;\n",
              "      box-shadow: 0px 1px 2px rgba(60, 64, 67, 0.3), 0px 1px 3px 1px rgba(60, 64, 67, 0.15);\n",
              "      fill: #174EA6;\n",
              "    }\n",
              "\n",
              "    [theme=dark] .colab-df-convert {\n",
              "      background-color: #3B4455;\n",
              "      fill: #D2E3FC;\n",
              "    }\n",
              "\n",
              "    [theme=dark] .colab-df-convert:hover {\n",
              "      background-color: #434B5C;\n",
              "      box-shadow: 0px 1px 3px 1px rgba(0, 0, 0, 0.15);\n",
              "      filter: drop-shadow(0px 1px 2px rgba(0, 0, 0, 0.3));\n",
              "      fill: #FFFFFF;\n",
              "    }\n",
              "  </style>\n",
              "\n",
              "      <script>\n",
              "        const buttonEl =\n",
              "          document.querySelector('#df-79f74bd2-5b59-4693-988d-b091c6596ecc button.colab-df-convert');\n",
              "        buttonEl.style.display =\n",
              "          google.colab.kernel.accessAllowed ? 'block' : 'none';\n",
              "\n",
              "        async function convertToInteractive(key) {\n",
              "          const element = document.querySelector('#df-79f74bd2-5b59-4693-988d-b091c6596ecc');\n",
              "          const dataTable =\n",
              "            await google.colab.kernel.invokeFunction('convertToInteractive',\n",
              "                                                     [key], {});\n",
              "          if (!dataTable) return;\n",
              "\n",
              "          const docLinkHtml = 'Like what you see? Visit the ' +\n",
              "            '<a target=\"_blank\" href=https://colab.research.google.com/notebooks/data_table.ipynb>data table notebook</a>'\n",
              "            + ' to learn more about interactive tables.';\n",
              "          element.innerHTML = '';\n",
              "          dataTable['output_type'] = 'display_data';\n",
              "          await google.colab.output.renderOutput(dataTable, element);\n",
              "          const docLink = document.createElement('div');\n",
              "          docLink.innerHTML = docLinkHtml;\n",
              "          element.appendChild(docLink);\n",
              "        }\n",
              "      </script>\n",
              "    </div>\n",
              "  </div>\n",
              "  "
            ]
          },
          "metadata": {},
          "execution_count": 32
        }
      ]
    },
    {
      "cell_type": "code",
      "source": [
        "# Proporção da Variável 'age_group'\n",
        "proporcao = df['age_group'].value_counts(normalize=True)\n",
        "\n",
        "proporcao = proporcao.reindex(nomes_faixas_etarias)\n",
        "\n",
        "ax = proporcao.plot(kind='bar', color='skyblue', edgecolor='black', figsize=(12,8))\n",
        "\n",
        "ax.set_title(\"Ligações por Faixa Etária\", fontsize=20)\n",
        "ax.set_xlabel('\\nIdades', fontsize=12)\n",
        "ax.set_ylabel('Proporção\\n', fontsize=12)\n",
        "\n",
        "\n",
        "# Adicionar proporção acima de cada barra\n",
        "for i, v in enumerate(proporcao):\n",
        "    ax.text(i-0.25, v+0.005, '{:.2%}'.format(v), fontsize=10)\n",
        "\n",
        "plt.xticks(rotation=0)\n",
        "\n",
        "plt.show()"
      ],
      "metadata": {
        "colab": {
          "base_uri": "https://localhost:8080/",
          "height": 537
        },
        "id": "KgYFHgVYeHow",
        "outputId": "73082882-30e5-49b9-a78f-eb224c32954e"
      },
      "execution_count": 33,
      "outputs": [
        {
          "output_type": "display_data",
          "data": {
            "text/plain": [
              "<Figure size 864x576 with 1 Axes>"
            ],
            "image/png": "[encoded data removed]"
          },
          "metadata": {
            "needs_background": "light"
          }
        }
      ]
    },
    {
      "cell_type": "markdown",
      "source": [
        "## Análise da Variável: 'job'"
      ],
      "metadata": {
        "id": "jReaKDcY6CeP"
      }
    },
    {
      "cell_type": "code",
      "source": [
        "# Proporção da Variável 'job'\n",
        "proporcao = df['job'].value_counts(normalize=True)\n",
        "\n",
        "ax = proporcao.plot(kind='bar', color='green', edgecolor='black', figsize=(12,8))\n",
        "\n",
        "ax.set_title(\"Ligações por Função Profissional\", fontsize=18)\n",
        "ax.set_xlabel('\\nFunção', fontsize=12)\n",
        "ax.set_ylabel('Proporção\\n', fontsize=12)\n",
        "\n",
        "\n",
        "# Adicionar proporção acima de cada barra\n",
        "for i, v in enumerate(proporcao):\n",
        "    ax.text(i-0.25, v+0.003, '{:.2%}'.format(v), fontsize=10)\n",
        "\n",
        "plt.xticks(rotation=45)\n",
        "\n",
        "plt.show()"
      ],
      "metadata": {
        "colab": {
          "base_uri": "https://localhost:8080/",
          "height": 582
        },
        "id": "YqYl-kKOkqkb",
        "outputId": "d42e7444-0a2c-4bc8-f28d-1333e3e5e498"
      },
      "execution_count": 34,
      "outputs": [
        {
          "output_type": "display_data",
          "data": {
            "text/plain": [
              "<Figure size 864x576 with 1 Axes>"
            ],
            "image/png": "[encoded data removed]"
          },
          "metadata": {
            "needs_background": "light"
          }
        }
      ]
    },
    {
      "cell_type": "markdown",
      "source": [
        "## Análise da Variável: 'education'"
      ],
      "metadata": {
        "id": "M1jDvCYk6T9g"
      }
    },
    {
      "cell_type": "code",
      "source": [
        "# contar o número de ocorrências de cada valor na coluna 'education'\n",
        "counts = df['education'].value_counts()\n",
        "\n",
        "# criar um gráfico de pizza com a proporção de cada valor\n",
        "fig, ax = plt.subplots(figsize=(10, 10)) # definir tamanho do gráfico\n",
        "ax.pie(counts, labels=counts.index, autopct='%1.1f%%', textprops={'fontsize': 15}) # adicionar argumentos para personalizar o gráfico\n",
        "\n",
        "ax.set_title(\"Ligações por Nível Educacional\", fontsize=20) # adicionar título\n",
        "\n",
        "# exibir o gráfico\n",
        "plt.show()"
      ],
      "metadata": {
        "colab": {
          "base_uri": "https://localhost:8080/",
          "height": 596
        },
        "id": "uFD0KIRZnDk6",
        "outputId": "4df289fb-70b0-451f-aa3a-3ce146eb5314"
      },
      "execution_count": 35,
      "outputs": [
        {
          "output_type": "display_data",
          "data": {
            "text/plain": [
              "<Figure size 720x720 with 1 Axes>"
            ],
            "image/png": "[encoded data removed]"
          },
          "metadata": {}
        }
      ]
    },
    {
      "cell_type": "markdown",
      "source": [
        "## Análise da Variável: 'marital'"
      ],
      "metadata": {
        "id": "VUfF1GaP6dlH"
      }
    },
    {
      "cell_type": "code",
      "source": [
        "# contar o número de ocorrências de cada valor na coluna 'marital'\n",
        "counts = df['marital'].value_counts()\n",
        "\n",
        "# criar um gráfico de pizza com a proporção de cada valor\n",
        "fig, ax = plt.subplots(figsize=(10, 10)) # definir tamanho do gráfico\n",
        "ax.pie(counts, labels=counts.index, autopct='%1.1f%%', textprops={'fontsize': 15}) # adicionar argumentos para personalizar o gráfico\n",
        "ax.set_title(\"Ligações por Estado Civil\", fontsize=20) # adicionar título\n",
        "\n",
        "# exibir o gráfico\n",
        "plt.show()"
      ],
      "metadata": {
        "id": "pIiPbpumpnd-",
        "colab": {
          "base_uri": "https://localhost:8080/",
          "height": 596
        },
        "outputId": "3eab21ce-251e-4857-a39c-9aa847108717"
      },
      "execution_count": 36,
      "outputs": [
        {
          "output_type": "display_data",
          "data": {
            "text/plain": [
              "<Figure size 720x720 with 1 Axes>"
            ],
            "image/png": "[encoded data removed]"
          },
          "metadata": {}
        }
      ]
    },
    {
      "cell_type": "markdown",
      "source": [
        "## Análise da Variável Alvo: 'y'"
      ],
      "metadata": {
        "id": "wzBAdQBy63l3"
      }
    },
    {
      "cell_type": "code",
      "source": [
        "# contar o número de ocorrências de cada valor na coluna 'y'\n",
        "counts = df['y'].value_counts()\n",
        "\n",
        "# criar um gráfico de pizza com a proporção de cada valor\n",
        "fig, ax = plt.subplots(figsize=(10, 10)) # definir tamanho do gráfico\n",
        "ax.pie(counts, labels=counts.index, autopct='%1.1f%%', textprops={'fontsize': 15}) # adicionar argumentos para personalizar o gráfico\n",
        "ax.set_title(\"Taxa de Conversão\", fontsize=20) # adicionar título\n",
        "\n",
        "# exibir o gráfico\n",
        "plt.show()"
      ],
      "metadata": {
        "colab": {
          "base_uri": "https://localhost:8080/",
          "height": 596
        },
        "id": "7M0d6tu-qG5_",
        "outputId": "a460760c-64a1-4a7c-e71c-807f77f43f9a"
      },
      "execution_count": 37,
      "outputs": [
        {
          "output_type": "display_data",
          "data": {
            "text/plain": [
              "<Figure size 720x720 with 1 Axes>"
            ],
            "image/png": "[encoded data removed]"
          },
          "metadata": {}
        }
      ]
    },
    {
      "cell_type": "markdown",
      "source": [
        "## Análise Multivariada"
      ],
      "metadata": {
        "id": "hkXaYkfY8758"
      }
    },
    {
      "cell_type": "code",
      "source": [
        "# Scatter Plot: Saldo e Idade\n",
        "sns.scatterplot(df[\"balance\"], df[\"age\"])\n",
        "plt.title(\"Scatter Plot Entre Saldo Bancário e Idade \\n\", fontdict = {'fontsize': 18, 'fontweight' : 5})\n",
        "plt.show()"
      ],
      "metadata": {
        "colab": {
          "base_uri": "https://localhost:8080/",
          "height": 320
        },
        "id": "qNWZoXbe9F_w",
        "outputId": "1bec84c3-7da3-4ebc-854a-c7a85f0d8d57"
      },
      "execution_count": 38,
      "outputs": [
        {
          "output_type": "display_data",
          "data": {
            "text/plain": [
              "<Figure size 432x288 with 1 Axes>"
            ],
            "image/png": "[encoded data removed]"
          },
          "metadata": {
            "needs_background": "light"
          }
        }
      ]
    },
    {
      "cell_type": "markdown",
      "source": [
        "Pelo gráfico não conseguimos perceber uma relação linear clara entre as a idade e o saldo bancário, entretanto existe um pequeno padrão entre as variáveis. \n",
        "\n",
        "A medida que a idade aumenta parece haver um pequeno aumento no saldo bancário."
      ],
      "metadata": {
        "id": "xfeCBotoD5lg"
      }
    },
    {
      "cell_type": "code",
      "source": [
        "# Correlação entre as variáveis 'y', 'balance', 'age', 'default', 'housing', 'loan', 'duration', 'campaign', 'previous'\n",
        "\n",
        "# Modifica a coluna 'y', 'default', 'housing', 'loan' para o tipo numérico onde response \"yes\"= 1, \"no\"= 0\n",
        "df[\"y\"] = np.where(df[\"y\"] == \"yes\",1,0)\n",
        "df[\"default\"] = np.where(df[\"default\"] == \"yes\",1,0)\n",
        "df[\"housing\"] = np.where(df[\"housing\"] == \"yes\",1,0)\n",
        "df[\"loan\"] = np.where(df[\"loan\"] == \"yes\",1,0)\n",
        "\n",
        "# Calcula a correlação\n",
        "res = df[['y', 'balance', 'age', 'default', 'housing', 'loan', 'duration', 'campaign', 'previous']].corr()\n",
        "\n",
        "# Mapa de Correlação\n",
        "plt.figure(figsize = (10,5))\n",
        "sns.heatmap(res, annot = True, cmap = \"Reds\")\n",
        "plt.title(\"Mapa de Correlação\\n\", fontdict = {'fontsize': 18, 'fontweight' : 5})\n",
        "plt.show()"
      ],
      "metadata": {
        "colab": {
          "base_uri": "https://localhost:8080/",
          "height": 361
        },
        "id": "FZn446-wFNwO",
        "outputId": "76f81b8d-6685-492a-c48e-fbb61a0da8a8"
      },
      "execution_count": 39,
      "outputs": [
        {
          "output_type": "display_data",
          "data": {
            "text/plain": [
              "<Figure size 720x360 with 2 Axes>"
            ],
            "image/png": "[encoded data removed]"
          },
          "metadata": {
            "needs_background": "light"
          }
        }
      ]
    },
    {
      "cell_type": "markdown",
      "source": [
        "A correlação é um coeficiente entre -1 e +1, sendo +1 uma alta correlação positiva, -1 uma alta correlação negativa e próximo de zero não há correlação.\n",
        "\n",
        "Pelo Mapa de Correlação, é possível afirmar que entre todas as variáveis, a  duração do contato telefônico 'duration' é a que possui maior correlação com a variável resposta. \n"
      ],
      "metadata": {
        "id": "4FnlYKsJGRUj"
      }
    },
    {
      "cell_type": "code",
      "source": [
        "# Mapa de correlação\n",
        "plt.figure(figsize=(25, 6))\n",
        "res1 = df.pivot_table(index = \"marital\", columns = \"age_group\", values = \"y\", aggfunc = \"mean\")\n",
        "sns.heatmap(res1, annot = True, cmap = \"RdYlGn\")\n",
        "plt.title(\"Correlação: Idade e Estado Civil com a Variável Alvo \\n\", fontdict = {'fontsize': 18, 'fontweight' : 5})\n",
        "plt.show()"
      ],
      "metadata": {
        "colab": {
          "base_uri": "https://localhost:8080/",
          "height": 429
        },
        "id": "kxlQKMVcHjTL",
        "outputId": "8c81c710-b4f4-4e05-93ae-92ba46b24c33"
      },
      "execution_count": 40,
      "outputs": [
        {
          "output_type": "display_data",
          "data": {
            "text/plain": [
              "<Figure size 1800x432 with 2 Axes>"
            ],
            "image/png": "[encoded data removed]"
          },
          "metadata": {
            "needs_background": "light"
          }
        }
      ]
    },
    {
      "cell_type": "markdown",
      "source": [
        "Através do gráfico de correlação entre as variáveis alvo 'y', 'marital'(estado civil) e 'age_group'(faixa etária) é possível concluir que as pessoas acima dos 60 anos foram as que mais adquiriram o produto bancário. \n",
        "\n",
        "Além disso, nessa mesma faixa etária(60+) , se o cliente for casado existe uma maior probabilidade de ter adquirido o produto do que se este for solteiro e, do mesmo modo, se o cliente for divorciado aumenta ainda mais a chance de ele ter adquirido o produto bancário.\n"
      ],
      "metadata": {
        "id": "NJyCmexHLqFV"
      }
    }
  ]
}